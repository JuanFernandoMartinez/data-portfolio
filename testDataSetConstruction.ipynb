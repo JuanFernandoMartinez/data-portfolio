{
 "cells": [
  {
   "cell_type": "code",
   "execution_count": 1,
   "id": "030bf4bc-77dd-4549-aaf0-1a4a82c4d96f",
   "metadata": {},
   "outputs": [],
   "source": [
    "import pandas as pd\n",
    "import os\n",
    "import matplotlib.pyplot as plt\n",
    "import seaborn as sns\n",
    "\n",
    "from sklearn.model_selection import train_test_split\n",
    "from sklearn.linear_model import LogisticRegression\n",
    "from sklearn.metrics import classification_report, confusion_matrix, accuracy_score\n",
    "\n",
    "from sklearn.preprocessing import StandardScaler\n",
    "from sklearn.model_selection import GridSearchCV\n",
    "from sklearn.pipeline import Pipeline\n",
    "from sklearn.linear_model import LogisticRegression"
   ]
  },
  {
   "cell_type": "code",
   "execution_count": 2,
   "id": "c22abd7c-b497-4e9c-af19-5d398f508b07",
   "metadata": {},
   "outputs": [],
   "source": [
    "# Define directories\n",
    "data_dir = \"cancerSeno_bw/test\"\n",
    "output_dir = \"featuresTestFromTest\"\n",
    "classes = [\"sano\", \"cancer\"]\n",
    "\n",
    "# Create output directories for unified data\n",
    "for cls in classes:\n",
    "    os.makedirs(os.path.join(output_dir, cls, \"UnifiedFeatures\"), exist_ok=True)"
   ]
  },
  {
   "cell_type": "code",
   "execution_count": 3,
   "id": "95a07e02-ebfe-4815-a7dc-53f52a0665df",
   "metadata": {},
   "outputs": [],
   "source": [
    "def read_csv_to_df(class_name, feature):\n",
    "    \"\"\"Read CSV file into a dataframe.\"\"\"\n",
    "    file_path = os.path.join(output_dir, class_name, feature, f\"combined_{feature}.csv\")\n",
    "    return pd.read_csv(file_path)"
   ]
  },
  {
   "cell_type": "code",
   "execution_count": 4,
   "id": "1fc4e785-6b1c-46a1-97c3-f04fcb430951",
   "metadata": {},
   "outputs": [],
   "source": [
    "# Initialize dictionaries to store dataframes\n",
    "data_frames = {cls: {} for cls in classes}"
   ]
  },
  {
   "cell_type": "code",
   "execution_count": 5,
   "id": "ea706dc7-5fd5-492b-8b53-3396c01f0caa",
   "metadata": {},
   "outputs": [],
   "source": [
    "# Read dataframes\n",
    "for cls in classes:\n",
    "    data_frames[cls]['pixel_density'] = read_csv_to_df(cls, \"pixelDensity\")\n",
    "    data_frames[cls]['brightness'] = read_csv_to_df(cls, \"brightness\")\n",
    "    data_frames[cls]['std_deviation'] = read_csv_to_df(cls, \"stdDeviation\")\n",
    "\n",
    "# Combine dataframes for each class\n",
    "for cls in classes:\n",
    "    combined_df = pd.concat([\n",
    "        data_frames[cls]['pixel_density'],\n",
    "        data_frames[cls]['brightness'],\n",
    "        data_frames[cls]['std_deviation']\n",
    "    ], axis=1)\n",
    "    combined_df.columns = ['pixel_density', 'brightness', 'std_deviation']\n",
    "    combined_df.to_csv(os.path.join(output_dir, cls, \"UnifiedFeatures\", \"combined_features.csv\"), index=False)"
   ]
  },
  {
   "cell_type": "code",
   "execution_count": 6,
   "id": "ca9e3def-9b85-47c4-a224-7f0ece2e964f",
   "metadata": {},
   "outputs": [
    {
     "name": "stdout",
     "output_type": "stream",
     "text": [
      "done\n"
     ]
    }
   ],
   "source": [
    "# Read combined dataframes\n",
    "combined_sano_df = pd.read_csv(os.path.join(output_dir, \"sano\", \"UnifiedFeatures\", \"combined_features.csv\"))\n",
    "combined_cancer_df = pd.read_csv(os.path.join(output_dir, \"cancer\", \"UnifiedFeatures\", \"combined_features.csv\"))\n",
    "\n",
    "# Add diagnosis column\n",
    "combined_sano_df['diagnosis'] = 0\n",
    "combined_cancer_df['diagnosis'] = 1\n",
    "\n",
    "# Concatenate both dataframes\n",
    "final_df = pd.concat([combined_sano_df, combined_cancer_df], ignore_index=True)\n",
    "\n",
    "# Drop rows with NaN values\n",
    "final_df.dropna(inplace=True)\n",
    "\n",
    "# Save the final dataframe\n",
    "final_df.to_csv(os.path.join(output_dir, \"combined_features_test.csv\"), index=False)\n",
    "\n",
    "print(\"done\")"
   ]
  },
  {
   "cell_type": "code",
   "execution_count": 8,
   "id": "32076339-8321-4f15-a6a0-ee3648109043",
   "metadata": {},
   "outputs": [],
   "source": [
    "# Load the final combined dataframe\n",
    "final_df_test = pd.read_csv(os.path.join(output_dir, \"combined_features_test.csv\"))"
   ]
  },
  {
   "cell_type": "code",
   "execution_count": 9,
   "id": "cd52b69e-63ab-4f28-b7c4-0718b786aac2",
   "metadata": {},
   "outputs": [
    {
     "data": {
      "text/html": [
       "<div>\n",
       "<style scoped>\n",
       "    .dataframe tbody tr th:only-of-type {\n",
       "        vertical-align: middle;\n",
       "    }\n",
       "\n",
       "    .dataframe tbody tr th {\n",
       "        vertical-align: top;\n",
       "    }\n",
       "\n",
       "    .dataframe thead th {\n",
       "        text-align: right;\n",
       "    }\n",
       "</style>\n",
       "<table border=\"1\" class=\"dataframe\">\n",
       "  <thead>\n",
       "    <tr style=\"text-align: right;\">\n",
       "      <th></th>\n",
       "      <th>pixel_density</th>\n",
       "      <th>brightness</th>\n",
       "      <th>std_deviation</th>\n",
       "      <th>diagnosis</th>\n",
       "    </tr>\n",
       "  </thead>\n",
       "  <tbody>\n",
       "    <tr>\n",
       "      <th>0</th>\n",
       "      <td>0.684636</td>\n",
       "      <td>167.8932</td>\n",
       "      <td>72.417016</td>\n",
       "      <td>0</td>\n",
       "    </tr>\n",
       "    <tr>\n",
       "      <th>1</th>\n",
       "      <td>0.109632</td>\n",
       "      <td>223.3596</td>\n",
       "      <td>50.889707</td>\n",
       "      <td>0</td>\n",
       "    </tr>\n",
       "    <tr>\n",
       "      <th>2</th>\n",
       "      <td>0.260716</td>\n",
       "      <td>171.3472</td>\n",
       "      <td>54.498876</td>\n",
       "      <td>0</td>\n",
       "    </tr>\n",
       "    <tr>\n",
       "      <th>3</th>\n",
       "      <td>0.193887</td>\n",
       "      <td>212.4244</td>\n",
       "      <td>57.584104</td>\n",
       "      <td>0</td>\n",
       "    </tr>\n",
       "    <tr>\n",
       "      <th>4</th>\n",
       "      <td>0.404494</td>\n",
       "      <td>172.6876</td>\n",
       "      <td>58.721597</td>\n",
       "      <td>0</td>\n",
       "    </tr>\n",
       "  </tbody>\n",
       "</table>\n",
       "</div>"
      ],
      "text/plain": [
       "   pixel_density  brightness  std_deviation  diagnosis\n",
       "0       0.684636    167.8932      72.417016          0\n",
       "1       0.109632    223.3596      50.889707          0\n",
       "2       0.260716    171.3472      54.498876          0\n",
       "3       0.193887    212.4244      57.584104          0\n",
       "4       0.404494    172.6876      58.721597          0"
      ]
     },
     "execution_count": 9,
     "metadata": {},
     "output_type": "execute_result"
    }
   ],
   "source": [
    "final_df_test.head(5)"
   ]
  },
  {
   "cell_type": "code",
   "execution_count": 11,
   "id": "e92e37da-c466-4731-95a1-c62f6581f8bb",
   "metadata": {},
   "outputs": [
    {
     "data": {
      "text/html": [
       "<div>\n",
       "<style scoped>\n",
       "    .dataframe tbody tr th:only-of-type {\n",
       "        vertical-align: middle;\n",
       "    }\n",
       "\n",
       "    .dataframe tbody tr th {\n",
       "        vertical-align: top;\n",
       "    }\n",
       "\n",
       "    .dataframe thead th {\n",
       "        text-align: right;\n",
       "    }\n",
       "</style>\n",
       "<table border=\"1\" class=\"dataframe\">\n",
       "  <thead>\n",
       "    <tr style=\"text-align: right;\">\n",
       "      <th></th>\n",
       "      <th>pixel_density</th>\n",
       "      <th>brightness</th>\n",
       "      <th>std_deviation</th>\n",
       "      <th>diagnosis</th>\n",
       "    </tr>\n",
       "  </thead>\n",
       "  <tbody>\n",
       "    <tr>\n",
       "      <th>47717</th>\n",
       "      <td>0.120072</td>\n",
       "      <td>197.1660</td>\n",
       "      <td>49.932419</td>\n",
       "      <td>1</td>\n",
       "    </tr>\n",
       "    <tr>\n",
       "      <th>47718</th>\n",
       "      <td>0.472320</td>\n",
       "      <td>133.4136</td>\n",
       "      <td>27.181717</td>\n",
       "      <td>1</td>\n",
       "    </tr>\n",
       "    <tr>\n",
       "      <th>47719</th>\n",
       "      <td>1.206531</td>\n",
       "      <td>121.3584</td>\n",
       "      <td>18.580192</td>\n",
       "      <td>1</td>\n",
       "    </tr>\n",
       "    <tr>\n",
       "      <th>47720</th>\n",
       "      <td>0.310273</td>\n",
       "      <td>174.9348</td>\n",
       "      <td>55.545104</td>\n",
       "      <td>1</td>\n",
       "    </tr>\n",
       "    <tr>\n",
       "      <th>47721</th>\n",
       "      <td>0.308901</td>\n",
       "      <td>170.7100</td>\n",
       "      <td>54.364072</td>\n",
       "      <td>1</td>\n",
       "    </tr>\n",
       "  </tbody>\n",
       "</table>\n",
       "</div>"
      ],
      "text/plain": [
       "       pixel_density  brightness  std_deviation  diagnosis\n",
       "47717       0.120072    197.1660      49.932419          1\n",
       "47718       0.472320    133.4136      27.181717          1\n",
       "47719       1.206531    121.3584      18.580192          1\n",
       "47720       0.310273    174.9348      55.545104          1\n",
       "47721       0.308901    170.7100      54.364072          1"
      ]
     },
     "execution_count": 11,
     "metadata": {},
     "output_type": "execute_result"
    }
   ],
   "source": [
    "final_df_test.tail(5)"
   ]
  },
  {
   "cell_type": "code",
   "execution_count": 12,
   "id": "2d666a14-d9a1-4f49-bdfe-b161de10fbe5",
   "metadata": {},
   "outputs": [
    {
     "data": {
      "text/plain": [
       "190888"
      ]
     },
     "execution_count": 12,
     "metadata": {},
     "output_type": "execute_result"
    }
   ],
   "source": [
    "final_df_test.size"
   ]
  },
  {
   "cell_type": "code",
   "execution_count": 13,
   "id": "cd57ee32-47c2-4452-93ac-d1c848514a45",
   "metadata": {},
   "outputs": [
    {
     "data": {
      "text/plain": [
       "(47722, 4)"
      ]
     },
     "execution_count": 13,
     "metadata": {},
     "output_type": "execute_result"
    }
   ],
   "source": [
    "final_df_test.shape"
   ]
  },
  {
   "cell_type": "code",
   "execution_count": null,
   "id": "c6a592bc-4da9-41db-b4e7-dc27e9bcb58b",
   "metadata": {},
   "outputs": [],
   "source": []
  }
 ],
 "metadata": {
  "kernelspec": {
   "display_name": "Python 3 (ipykernel)",
   "language": "python",
   "name": "python3"
  },
  "language_info": {
   "codemirror_mode": {
    "name": "ipython",
    "version": 3
   },
   "file_extension": ".py",
   "mimetype": "text/x-python",
   "name": "python",
   "nbconvert_exporter": "python",
   "pygments_lexer": "ipython3",
   "version": "3.12.0"
  }
 },
 "nbformat": 4,
 "nbformat_minor": 5
}
