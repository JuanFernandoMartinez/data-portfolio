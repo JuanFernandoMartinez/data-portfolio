{
 "cells": [
  {
   "cell_type": "markdown",
   "id": "899944b5-1462-44f1-be04-0dc118f92eec",
   "metadata": {},
   "source": [
    "# Data preparation"
   ]
  },
  {
   "cell_type": "code",
   "execution_count": 1,
   "id": "ee24b456-bb8d-483c-87b6-6daddf3dcb3e",
   "metadata": {},
   "outputs": [],
   "source": [
    "from PIL import Image\n",
    "import os"
   ]
  },
  {
   "cell_type": "code",
   "execution_count": 2,
   "id": "cd2b6dba-b101-468b-ad4f-bc1fe5f23de9",
   "metadata": {},
   "outputs": [
    {
     "name": "stdout",
     "output_type": "stream",
     "text": [
      "Archivo: 10253_idx5_x1001_y1001_class0.png\n",
      "Tamaño: (50, 50) píxeles\n",
      "Resolución: No disponible dpi\n",
      "\n",
      "Archivo: 10253_idx5_x1001_y1051_class0.png\n",
      "Tamaño: (50, 50) píxeles\n",
      "Resolución: No disponible dpi\n",
      "\n",
      "Archivo: 10253_idx5_x1001_y1101_class0.png\n",
      "Tamaño: (50, 50) píxeles\n",
      "Resolución: No disponible dpi\n",
      "\n",
      "Archivo: 10253_idx5_x1001_y1151_class0.png\n",
      "Tamaño: (50, 50) píxeles\n",
      "Resolución: No disponible dpi\n",
      "\n",
      "Archivo: 10253_idx5_x1001_y1201_class0.png\n",
      "Tamaño: (50, 50) píxeles\n",
      "Resolución: No disponible dpi\n",
      "\n"
     ]
    }
   ],
   "source": [
    "# Check general information about the images such as path/name, size and resolution\n",
    "# Directories\n",
    "source_dir = \"breast-histopathology-images\"\n",
    "source_dir = os.path.join(os.getcwd(), source_dir)\n",
    "\n",
    "# Obtain image list (some images)\n",
    "image_files = [os.path.join(root, filename) for root, _, filenames in os.walk(source_dir) for filename in filenames if filename.endswith('.png')]\n",
    "\n",
    "# Explore some images\n",
    "for image_path in image_files[:5]:  # Muestra las primeras 5 imágenes como ejemplo\n",
    "    #Load image\n",
    "    image = Image.open(image_path)\n",
    "    \n",
    "    # Obtain image data\n",
    "    width, height = image.size\n",
    "    resolution = image.info.get(\"dpi\", \"No disponible\")\n",
    "    \n",
    "    # Print results (image data)\n",
    "    print(\"Archivo:\", os.path.basename(image_path))\n",
    "    print(\"Tamaño:\", (width, height), \"píxeles\")\n",
    "    print(\"Resolución:\", resolution, \"dpi\")\n",
    "    print()"
   ]
  },
  {
   "cell_type": "code",
   "execution_count": 4,
   "id": "69716519-e1cf-4eec-bf68-15e5b4131995",
   "metadata": {},
   "outputs": [
    {
     "name": "stdout",
     "output_type": "stream",
     "text": [
      "Las imágenes han sido convertidas a blanco y negro y copiadas al directorio de destino.\n"
     ]
    }
   ],
   "source": [
    "# Transform images into black and white images\n",
    "# Origin and target directories\n",
    "source_dir = \"cancerSeno\"\n",
    "destination_dir = \"cancerSeno_bw\"\n",
    "\n",
    "# Funciton which converts images into bw\n",
    "def convert_to_bw(input_dir, output_dir):\n",
    "    # Recorre todas las carpetas dentro del directorio de origen\n",
    "    for root, dirs, files in os.walk(input_dir):\n",
    "        # Crea las mismas carpetas en el directorio de destino\n",
    "        relative_path = os.path.relpath(root, input_dir)\n",
    "        output_subdir = os.path.join(output_dir, relative_path)\n",
    "        os.makedirs(output_subdir, exist_ok=True)\n",
    "        \n",
    "        # Itera sobre los archivos de imagen en la carpeta actual\n",
    "        for file in files:\n",
    "            if file.endswith('.png'):  # Solo procesa archivos PNG\n",
    "                input_path = os.path.join(root, file)\n",
    "                output_path = os.path.join(output_subdir, file)\n",
    "                \n",
    "                # Abre la imagen y conviértela a blanco y negro\n",
    "                with Image.open(input_path) as img:\n",
    "                    img = img.convert('L')  # Convertir a escala de grises\n",
    "                    img.save(output_path)   # Guardar la imagen en blanco y negro\n",
    "\n",
    "# Convert images\n",
    "convert_to_bw(source_dir, destination_dir)\n",
    "\n",
    "print(\"Las imágenes han sido convertidas a blanco y negro y copiadas al directorio de destino.\")\n"
   ]
  },
  {
   "cell_type": "code",
   "execution_count": null,
   "id": "83b88280-5187-49c6-89a3-db426a78c494",
   "metadata": {},
   "outputs": [],
   "source": []
  }
 ],
 "metadata": {
  "kernelspec": {
   "display_name": "Python 3 (ipykernel)",
   "language": "python",
   "name": "python3"
  },
  "language_info": {
   "codemirror_mode": {
    "name": "ipython",
    "version": 3
   },
   "file_extension": ".py",
   "mimetype": "text/x-python",
   "name": "python",
   "nbconvert_exporter": "python",
   "pygments_lexer": "ipython3",
   "version": "3.11.7"
  }
 },
 "nbformat": 4,
 "nbformat_minor": 5
}
