{
 "cells": [
  {
   "cell_type": "markdown",
   "id": "899944b5-1462-44f1-be04-0dc118f92eec",
   "metadata": {},
   "source": [
    "# Data preparation"
   ]
  },
  {
   "cell_type": "code",
   "execution_count": 1,
   "id": "ee24b456-bb8d-483c-87b6-6daddf3dcb3e",
   "metadata": {},
   "outputs": [],
   "source": [
    "from PIL import Image\n",
    "import os"
   ]
  },
  {
   "cell_type": "code",
   "execution_count": 2,
   "id": "cd2b6dba-b101-468b-ad4f-bc1fe5f23de9",
   "metadata": {},
   "outputs": [
    {
     "name": "stdout",
     "output_type": "stream",
     "text": [
      "Archivo: 10253_idx5_x1001_y1001_class0.png\n",
      "Tamaño: (50, 50) píxeles\n",
      "Resolución: No disponible dpi\n",
      "\n",
      "Archivo: 10253_idx5_x1001_y1051_class0.png\n",
      "Tamaño: (50, 50) píxeles\n",
      "Resolución: No disponible dpi\n",
      "\n",
      "Archivo: 10253_idx5_x1001_y1101_class0.png\n",
      "Tamaño: (50, 50) píxeles\n",
      "Resolución: No disponible dpi\n",
      "\n",
      "Archivo: 10253_idx5_x1001_y1151_class0.png\n",
      "Tamaño: (50, 50) píxeles\n",
      "Resolución: No disponible dpi\n",
      "\n",
      "Archivo: 10253_idx5_x1001_y1201_class0.png\n",
      "Tamaño: (50, 50) píxeles\n",
      "Resolución: No disponible dpi\n",
      "\n"
     ]
    }
   ],
   "source": [
    "# Check general information about the images such as path/name, size and resolution\n",
    "# Directories\n",
    "source_dir = \"breast-histopathology-images\"\n",
    "source_dir = os.path.join(os.getcwd(), source_dir)\n",
    "\n",
    "# Obtain image list (some images)\n",
    "image_files = [os.path.join(root, filename) for root, _, filenames in os.walk(source_dir) for filename in filenames if filename.endswith('.png')]\n",
    "\n",
    "# Explore some images\n",
    "for image_path in image_files[:5]:  # Muestra las primeras 5 imágenes como ejemplo\n",
    "    #Load image\n",
    "    image = Image.open(image_path)\n",
    "    \n",
    "    # Obtain image data\n",
    "    width, height = image.size\n",
    "    resolution = image.info.get(\"dpi\", \"No disponible\")\n",
    "    \n",
    "    # Print results (image data)\n",
    "    print(\"Archivo:\", os.path.basename(image_path))\n",
    "    print(\"Tamaño:\", (width, height), \"píxeles\")\n",
    "    print(\"Resolución:\", resolution, \"dpi\")\n",
    "    print()"
   ]
  },
  {
   "cell_type": "code",
   "execution_count": 3,
   "id": "69716519-e1cf-4eec-bf68-15e5b4131995",
   "metadata": {},
   "outputs": [
    {
     "ename": "KeyboardInterrupt",
     "evalue": "",
     "output_type": "error",
     "traceback": [
      "\u001b[1;31m---------------------------------------------------------------------------\u001b[0m",
      "\u001b[1;31mKeyboardInterrupt\u001b[0m                         Traceback (most recent call last)",
      "\u001b[1;32m~\\AppData\\Local\\Temp\\ipykernel_21636\\3567078043.py\u001b[0m in \u001b[0;36m<module>\u001b[1;34m\u001b[0m\n\u001b[0;32m     25\u001b[0m \u001b[1;33m\u001b[0m\u001b[0m\n\u001b[0;32m     26\u001b[0m \u001b[1;31m# Convert images\u001b[0m\u001b[1;33m\u001b[0m\u001b[1;33m\u001b[0m\u001b[1;33m\u001b[0m\u001b[0m\n\u001b[1;32m---> 27\u001b[1;33m \u001b[0mconvert_to_bw\u001b[0m\u001b[1;33m(\u001b[0m\u001b[0msource_dir\u001b[0m\u001b[1;33m,\u001b[0m \u001b[0mdestination_dir\u001b[0m\u001b[1;33m)\u001b[0m\u001b[1;33m\u001b[0m\u001b[1;33m\u001b[0m\u001b[0m\n\u001b[0m\u001b[0;32m     28\u001b[0m \u001b[1;33m\u001b[0m\u001b[0m\n\u001b[0;32m     29\u001b[0m \u001b[0mprint\u001b[0m\u001b[1;33m(\u001b[0m\u001b[1;34m\"Las imágenes han sido convertidas a blanco y negro y copiadas al directorio de destino.\"\u001b[0m\u001b[1;33m)\u001b[0m\u001b[1;33m\u001b[0m\u001b[1;33m\u001b[0m\u001b[0m\n",
      "\u001b[1;32m~\\AppData\\Local\\Temp\\ipykernel_21636\\3567078043.py\u001b[0m in \u001b[0;36mconvert_to_bw\u001b[1;34m(input_dir, output_dir)\u001b[0m\n\u001b[0;32m     20\u001b[0m \u001b[1;33m\u001b[0m\u001b[0m\n\u001b[0;32m     21\u001b[0m                 \u001b[1;31m# Abre la imagen y conviértela a blanco y negro\u001b[0m\u001b[1;33m\u001b[0m\u001b[1;33m\u001b[0m\u001b[1;33m\u001b[0m\u001b[0m\n\u001b[1;32m---> 22\u001b[1;33m                 \u001b[1;32mwith\u001b[0m \u001b[0mImage\u001b[0m\u001b[1;33m.\u001b[0m\u001b[0mopen\u001b[0m\u001b[1;33m(\u001b[0m\u001b[0minput_path\u001b[0m\u001b[1;33m)\u001b[0m \u001b[1;32mas\u001b[0m \u001b[0mimg\u001b[0m\u001b[1;33m:\u001b[0m\u001b[1;33m\u001b[0m\u001b[1;33m\u001b[0m\u001b[0m\n\u001b[0m\u001b[0;32m     23\u001b[0m                     \u001b[0mimg\u001b[0m \u001b[1;33m=\u001b[0m \u001b[0mimg\u001b[0m\u001b[1;33m.\u001b[0m\u001b[0mconvert\u001b[0m\u001b[1;33m(\u001b[0m\u001b[1;34m'L'\u001b[0m\u001b[1;33m)\u001b[0m  \u001b[1;31m# Convertir a escala de grises\u001b[0m\u001b[1;33m\u001b[0m\u001b[1;33m\u001b[0m\u001b[0m\n\u001b[0;32m     24\u001b[0m                     \u001b[0mimg\u001b[0m\u001b[1;33m.\u001b[0m\u001b[0msave\u001b[0m\u001b[1;33m(\u001b[0m\u001b[0moutput_path\u001b[0m\u001b[1;33m)\u001b[0m   \u001b[1;31m# Guardar la imagen en blanco y negro\u001b[0m\u001b[1;33m\u001b[0m\u001b[1;33m\u001b[0m\u001b[0m\n",
      "\u001b[1;32mc:\\Users\\Lenovo\\anaconda3\\envs\\entorno3.7\\lib\\site-packages\\PIL\\Image.py\u001b[0m in \u001b[0;36mopen\u001b[1;34m(fp, mode, formats)\u001b[0m\n\u001b[0;32m   3234\u001b[0m \u001b[1;33m\u001b[0m\u001b[0m\n\u001b[0;32m   3235\u001b[0m     \u001b[1;32mif\u001b[0m \u001b[0mfilename\u001b[0m\u001b[1;33m:\u001b[0m\u001b[1;33m\u001b[0m\u001b[1;33m\u001b[0m\u001b[0m\n\u001b[1;32m-> 3236\u001b[1;33m         \u001b[0mfp\u001b[0m \u001b[1;33m=\u001b[0m \u001b[0mbuiltins\u001b[0m\u001b[1;33m.\u001b[0m\u001b[0mopen\u001b[0m\u001b[1;33m(\u001b[0m\u001b[0mfilename\u001b[0m\u001b[1;33m,\u001b[0m \u001b[1;34m\"rb\"\u001b[0m\u001b[1;33m)\u001b[0m\u001b[1;33m\u001b[0m\u001b[1;33m\u001b[0m\u001b[0m\n\u001b[0m\u001b[0;32m   3237\u001b[0m         \u001b[0mexclusive_fp\u001b[0m \u001b[1;33m=\u001b[0m \u001b[1;32mTrue\u001b[0m\u001b[1;33m\u001b[0m\u001b[1;33m\u001b[0m\u001b[0m\n\u001b[0;32m   3238\u001b[0m \u001b[1;33m\u001b[0m\u001b[0m\n",
      "\u001b[1;31mKeyboardInterrupt\u001b[0m: "
     ]
    }
   ],
   "source": [
    "# Transform images into black and white images\n",
    "# Origin and target directories\n",
    "source_dir = \"cancerSeno\"\n",
    "destination_dir = \"cancerSeno_bw\"\n",
    "\n",
    "# Funciton which converts images into bw\n",
    "def convert_to_bw(input_dir, output_dir):\n",
    "    # Recorre todas las carpetas dentro del directorio de origen\n",
    "    for root, dirs, files in os.walk(input_dir):\n",
    "        # Crea las mismas carpetas en el directorio de destino\n",
    "        relative_path = os.path.relpath(root, input_dir)\n",
    "        output_subdir = os.path.join(output_dir, relative_path)\n",
    "        os.makedirs(output_subdir, exist_ok=True)\n",
    "        \n",
    "        # Itera sobre los archivos de imagen en la carpeta actual\n",
    "        for file in files:\n",
    "            if file.endswith('.png'):  # Solo procesa archivos PNG\n",
    "                input_path = os.path.join(root, file)\n",
    "                output_path = os.path.join(output_subdir, file)\n",
    "                \n",
    "                # Abre la imagen y conviértela a blanco y negro\n",
    "                with Image.open(input_path) as img:\n",
    "                    img = img.convert('L')  # Convertir a escala de grises\n",
    "                    img.save(output_path)   # Guardar la imagen en blanco y negro\n",
    "\n",
    "# Convert images\n",
    "convert_to_bw(source_dir, destination_dir)\n",
    "\n",
    "print(\"Las imágenes han sido convertidas a blanco y negro y copiadas al directorio de destino.\")\n"
   ]
  },
  {
   "cell_type": "code",
   "execution_count": null,
   "id": "83b88280-5187-49c6-89a3-db426a78c494",
   "metadata": {},
   "outputs": [],
   "source": []
  }
 ],
 "metadata": {
  "kernelspec": {
   "display_name": "Python 3 (ipykernel)",
   "language": "python",
   "name": "python3"
  },
  "language_info": {
   "codemirror_mode": {
    "name": "ipython",
    "version": 3
   },
   "file_extension": ".py",
   "mimetype": "text/x-python",
   "name": "python",
   "nbconvert_exporter": "python",
   "pygments_lexer": "ipython3",
   "version": "3.7.16"
  }
 },
 "nbformat": 4,
 "nbformat_minor": 5
}
