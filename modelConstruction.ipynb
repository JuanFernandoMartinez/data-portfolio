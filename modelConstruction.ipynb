{
 "cells": [
  {
   "cell_type": "code",
   "execution_count": 31,
   "id": "aa7869b0-4c6d-45e4-9e1e-c7b981d0b76b",
   "metadata": {},
   "outputs": [],
   "source": [
    "import pandas as pd\n",
    "import os\n",
    "import matplotlib.pyplot as plt\n",
    "import seaborn as sns\n",
    "\n",
    "from sklearn.model_selection import train_test_split\n",
    "from sklearn.linear_model import LogisticRegression\n",
    "from sklearn.metrics import classification_report, confusion_matrix, accuracy_score\n",
    "\n",
    "from sklearn.preprocessing import StandardScaler\n",
    "from sklearn.model_selection import GridSearchCV\n",
    "from sklearn.pipeline import Pipeline\n",
    "from sklearn.linear_model import LogisticRegression"
   ]
  },
  {
   "cell_type": "code",
   "execution_count": 2,
   "id": "28b47303-aa62-47dc-9136-d983591dac98",
   "metadata": {},
   "outputs": [],
   "source": [
    "# Define directories\n",
    "data_dir = \"cancerSeno_bw/train\"\n",
    "output_dir = \"featuresTest\"\n",
    "classes = [\"sano\", \"cancer\"]\n",
    "\n",
    "# Create output directories for unified data\n",
    "for cls in classes:\n",
    "    os.makedirs(os.path.join(output_dir, cls, \"UnifiedFeatures\"), exist_ok=True)"
   ]
  },
  {
   "cell_type": "code",
   "execution_count": 3,
   "id": "56a64bd8-0841-43c9-958a-d89522705f3b",
   "metadata": {},
   "outputs": [],
   "source": [
    "def read_csv_to_df(class_name, feature):\n",
    "    \"\"\"Read CSV file into a dataframe.\"\"\"\n",
    "    file_path = os.path.join(output_dir, class_name, feature, f\"combined_{feature}.csv\")\n",
    "    return pd.read_csv(file_path)"
   ]
  },
  {
   "cell_type": "code",
   "execution_count": 4,
   "id": "cd9ad34c-784a-4c80-8b66-3f4c7a62a0ba",
   "metadata": {},
   "outputs": [],
   "source": [
    "# Initialize dictionaries to store dataframes\n",
    "data_frames = {cls: {} for cls in classes}"
   ]
  },
  {
   "cell_type": "code",
   "execution_count": 12,
   "id": "6da9ab06-300a-4327-a1f4-82a188b65b6d",
   "metadata": {},
   "outputs": [],
   "source": [
    "# Read dataframes\n",
    "for cls in classes:\n",
    "    data_frames[cls]['pixel_density'] = read_csv_to_df(cls, \"pixelDensity\")\n",
    "    data_frames[cls]['brightness'] = read_csv_to_df(cls, \"brightness\")\n",
    "    data_frames[cls]['std_deviation'] = read_csv_to_df(cls, \"stdDeviation\")\n",
    "\n",
    "# Combine dataframes for each class\n",
    "for cls in classes:\n",
    "    combined_df = pd.concat([\n",
    "        data_frames[cls]['pixel_density'],\n",
    "        data_frames[cls]['brightness'],\n",
    "        data_frames[cls]['std_deviation']\n",
    "    ], axis=1)\n",
    "    combined_df.columns = ['pixel_density', 'brightness', 'std_deviation']\n",
    "    combined_df.to_csv(os.path.join(output_dir, cls, \"UnifiedFeatures\", \"combined_features.csv\"), index=False)\n"
   ]
  },
  {
   "cell_type": "code",
   "execution_count": 21,
   "id": "4082bc85-fc8a-4fea-a8fd-111305b5b0f3",
   "metadata": {},
   "outputs": [
    {
     "name": "stdout",
     "output_type": "stream",
     "text": [
      "done\n"
     ]
    }
   ],
   "source": [
    "# Read combined dataframes\n",
    "combined_sano_df = pd.read_csv(os.path.join(output_dir, \"sano\", \"UnifiedFeatures\", \"combined_features.csv\"))\n",
    "combined_cancer_df = pd.read_csv(os.path.join(output_dir, \"cancer\", \"UnifiedFeatures\", \"combined_features.csv\"))\n",
    "\n",
    "# Add diagnosis column\n",
    "combined_sano_df['diagnosis'] = 0\n",
    "combined_cancer_df['diagnosis'] = 1\n",
    "\n",
    "# Concatenate both dataframes\n",
    "final_df = pd.concat([combined_sano_df, combined_cancer_df], ignore_index=True)\n",
    "\n",
    "# Drop rows with NaN values\n",
    "final_df.dropna(inplace=True)\n",
    "\n",
    "# Save the final dataframe\n",
    "final_df.to_csv(os.path.join(output_dir, \"combined_features.csv\"), index=False)\n",
    "\n",
    "print(\"done\")"
   ]
  },
  {
   "cell_type": "code",
   "execution_count": 23,
   "id": "fad7cae9-9769-4c29-9b15-c1083399887f",
   "metadata": {},
   "outputs": [],
   "source": [
    "# Load the final combined dataframe\n",
    "final_df = pd.read_csv(os.path.join(output_dir, \"combined_features.csv\"))"
   ]
  },
  {
   "cell_type": "code",
   "execution_count": 24,
   "id": "f6097d14-ac68-4825-9f8d-a3113594e15a",
   "metadata": {},
   "outputs": [
    {
     "data": {
      "text/html": [
       "<div>\n",
       "<style scoped>\n",
       "    .dataframe tbody tr th:only-of-type {\n",
       "        vertical-align: middle;\n",
       "    }\n",
       "\n",
       "    .dataframe tbody tr th {\n",
       "        vertical-align: top;\n",
       "    }\n",
       "\n",
       "    .dataframe thead th {\n",
       "        text-align: right;\n",
       "    }\n",
       "</style>\n",
       "<table border=\"1\" class=\"dataframe\">\n",
       "  <thead>\n",
       "    <tr style=\"text-align: right;\">\n",
       "      <th></th>\n",
       "      <th>pixel_density</th>\n",
       "      <th>brightness</th>\n",
       "      <th>std_deviation</th>\n",
       "      <th>diagnosis</th>\n",
       "    </tr>\n",
       "  </thead>\n",
       "  <tbody>\n",
       "    <tr>\n",
       "      <th>0</th>\n",
       "      <td>0.171509</td>\n",
       "      <td>224.2464</td>\n",
       "      <td>60.422798</td>\n",
       "      <td>0</td>\n",
       "    </tr>\n",
       "    <tr>\n",
       "      <th>1</th>\n",
       "      <td>0.159555</td>\n",
       "      <td>215.8540</td>\n",
       "      <td>59.209350</td>\n",
       "      <td>0</td>\n",
       "    </tr>\n",
       "    <tr>\n",
       "      <th>2</th>\n",
       "      <td>1.569373</td>\n",
       "      <td>130.9068</td>\n",
       "      <td>57.393098</td>\n",
       "      <td>0</td>\n",
       "    </tr>\n",
       "    <tr>\n",
       "      <th>3</th>\n",
       "      <td>0.780627</td>\n",
       "      <td>155.0704</td>\n",
       "      <td>63.576466</td>\n",
       "      <td>0</td>\n",
       "    </tr>\n",
       "    <tr>\n",
       "      <th>4</th>\n",
       "      <td>0.270971</td>\n",
       "      <td>177.7340</td>\n",
       "      <td>57.196350</td>\n",
       "      <td>0</td>\n",
       "    </tr>\n",
       "  </tbody>\n",
       "</table>\n",
       "</div>"
      ],
      "text/plain": [
       "   pixel_density  brightness  std_deviation  diagnosis\n",
       "0       0.171509    224.2464      60.422798          0\n",
       "1       0.159555    215.8540      59.209350          0\n",
       "2       1.569373    130.9068      57.393098          0\n",
       "3       0.780627    155.0704      63.576466          0\n",
       "4       0.270971    177.7340      57.196350          0"
      ]
     },
     "execution_count": 24,
     "metadata": {},
     "output_type": "execute_result"
    }
   ],
   "source": [
    "final_df.head(5)"
   ]
  },
  {
   "cell_type": "code",
   "execution_count": 25,
   "id": "c9db059e-23d8-4a5d-a023-742552187915",
   "metadata": {},
   "outputs": [
    {
     "data": {
      "text/plain": [
       "439400"
      ]
     },
     "execution_count": 25,
     "metadata": {},
     "output_type": "execute_result"
    }
   ],
   "source": [
    "final_df.size"
   ]
  },
  {
   "cell_type": "code",
   "execution_count": 26,
   "id": "e760d909-2cee-4b1b-b402-5f7b3f0d4b11",
   "metadata": {},
   "outputs": [
    {
     "data": {
      "text/plain": [
       "(109850, 4)"
      ]
     },
     "execution_count": 26,
     "metadata": {},
     "output_type": "execute_result"
    }
   ],
   "source": [
    "final_df.shape"
   ]
  },
  {
   "cell_type": "code",
   "execution_count": 27,
   "id": "d64bc5aa-061d-4fdc-a51a-3d45ad8c6dfc",
   "metadata": {},
   "outputs": [
    {
     "data": {
      "text/html": [
       "<div>\n",
       "<style scoped>\n",
       "    .dataframe tbody tr th:only-of-type {\n",
       "        vertical-align: middle;\n",
       "    }\n",
       "\n",
       "    .dataframe tbody tr th {\n",
       "        vertical-align: top;\n",
       "    }\n",
       "\n",
       "    .dataframe thead th {\n",
       "        text-align: right;\n",
       "    }\n",
       "</style>\n",
       "<table border=\"1\" class=\"dataframe\">\n",
       "  <thead>\n",
       "    <tr style=\"text-align: right;\">\n",
       "      <th></th>\n",
       "      <th>pixel_density</th>\n",
       "      <th>brightness</th>\n",
       "      <th>std_deviation</th>\n",
       "      <th>diagnosis</th>\n",
       "    </tr>\n",
       "  </thead>\n",
       "  <tbody>\n",
       "    <tr>\n",
       "      <th>109845</th>\n",
       "      <td>0.431025</td>\n",
       "      <td>137.2384</td>\n",
       "      <td>37.947785</td>\n",
       "      <td>1</td>\n",
       "    </tr>\n",
       "    <tr>\n",
       "      <th>109846</th>\n",
       "      <td>0.459428</td>\n",
       "      <td>131.4040</td>\n",
       "      <td>25.983502</td>\n",
       "      <td>1</td>\n",
       "    </tr>\n",
       "    <tr>\n",
       "      <th>109847</th>\n",
       "      <td>0.019992</td>\n",
       "      <td>210.0556</td>\n",
       "      <td>38.063165</td>\n",
       "      <td>1</td>\n",
       "    </tr>\n",
       "    <tr>\n",
       "      <th>109848</th>\n",
       "      <td>0.041233</td>\n",
       "      <td>171.9496</td>\n",
       "      <td>40.148622</td>\n",
       "      <td>1</td>\n",
       "    </tr>\n",
       "    <tr>\n",
       "      <th>109849</th>\n",
       "      <td>0.041233</td>\n",
       "      <td>182.3728</td>\n",
       "      <td>44.743395</td>\n",
       "      <td>1</td>\n",
       "    </tr>\n",
       "  </tbody>\n",
       "</table>\n",
       "</div>"
      ],
      "text/plain": [
       "        pixel_density  brightness  std_deviation  diagnosis\n",
       "109845       0.431025    137.2384      37.947785          1\n",
       "109846       0.459428    131.4040      25.983502          1\n",
       "109847       0.019992    210.0556      38.063165          1\n",
       "109848       0.041233    171.9496      40.148622          1\n",
       "109849       0.041233    182.3728      44.743395          1"
      ]
     },
     "execution_count": 27,
     "metadata": {},
     "output_type": "execute_result"
    }
   ],
   "source": [
    "final_df.tail(5)"
   ]
  },
  {
   "cell_type": "code",
   "execution_count": 28,
   "id": "d1b367f5-900f-4168-bce8-a31016c2fe84",
   "metadata": {},
   "outputs": [
    {
     "data": {
      "image/png": "[encoded data removed]",
      "text/plain": [
       "<Figure size 1000x800 with 2 Axes>"
      ]
     },
     "metadata": {},
     "output_type": "display_data"
    }
   ],
   "source": [
    "# Load the final combined dataframe\n",
    "final_df = pd.read_csv(os.path.join(output_dir, \"combined_features.csv\"))\n",
    "\n",
    "# Calculate the correlation matrix\n",
    "correlation_matrix = final_df.corr()\n",
    "\n",
    "# Save the correlation matrix\n",
    "correlation_matrix.to_csv(os.path.join(output_dir, \"correlation_matrix.csv\"))\n",
    "\n",
    "# Plot the heatmap\n",
    "plt.figure(figsize=(10, 8))\n",
    "sns.heatmap(correlation_matrix, annot=True, cmap='coolwarm', fmt='.2f')\n",
    "plt.title('Correlation Matrix')\n",
    "plt.show()"
   ]
  },
  {
   "cell_type": "code",
   "execution_count": 30,
   "id": "82152b02-db25-4ae9-9910-090d8e9e9d47",
   "metadata": {},
   "outputs": [
    {
     "name": "stdout",
     "output_type": "stream",
     "text": [
      "Confusion Matrix:\n",
      "[[4791 6293]\n",
      " [4612 6274]]\n",
      "\n",
      "Classification Report:\n",
      "              precision    recall  f1-score   support\n",
      "\n",
      "           0       0.51      0.43      0.47     11084\n",
      "           1       0.50      0.58      0.54     10886\n",
      "\n",
      "    accuracy                           0.50     21970\n",
      "   macro avg       0.50      0.50      0.50     21970\n",
      "weighted avg       0.50      0.50      0.50     21970\n",
      "\n",
      "\n",
      "Accuracy Score:\n",
      "0.503641329085116\n"
     ]
    }
   ],
   "source": [
    "# Define features and target\n",
    "X = final_df[['pixel_density', 'brightness', 'std_deviation']]\n",
    "y = final_df['diagnosis']\n",
    "\n",
    "# Split the data into training and testing sets\n",
    "X_train, X_test, y_train, y_test = train_test_split(X, y, test_size=0.2, random_state=42)\n",
    "\n",
    "# Create the logistic regression model\n",
    "model = LogisticRegression()\n",
    "\n",
    "# Train the model\n",
    "model.fit(X_train, y_train)\n",
    "\n",
    "# Make predictions\n",
    "y_pred = model.predict(X_test)\n",
    "\n",
    "# Evaluate the model\n",
    "print(\"Confusion Matrix:\")\n",
    "print(confusion_matrix(y_test, y_pred))\n",
    "print(\"\\nClassification Report:\")\n",
    "print(classification_report(y_test, y_pred))\n",
    "print(\"\\nAccuracy Score:\")\n",
    "print(accuracy_score(y_test, y_pred))"
   ]
  },
  {
   "cell_type": "code",
   "execution_count": 32,
   "id": "f790b37b-9eef-4a3e-a52c-7c80d82d3ffa",
   "metadata": {},
   "outputs": [
    {
     "name": "stderr",
     "output_type": "stream",
     "text": [
      "C:\\Users\\Usuario\\AppData\\Local\\Programs\\Python\\Python312\\Lib\\site-packages\\sklearn\\model_selection\\_validation.py:425: FitFailedWarning: \n",
      "25 fits failed out of a total of 75.\n",
      "The score on these train-test partitions for these parameters will be set to nan.\n",
      "If these failures are not expected, you can try to debug them by setting error_score='raise'.\n",
      "\n",
      "Below are more details about the failures:\n",
      "--------------------------------------------------------------------------------\n",
      "25 fits failed with the following error:\n",
      "Traceback (most recent call last):\n",
      "  File \"C:\\Users\\Usuario\\AppData\\Local\\Programs\\Python\\Python312\\Lib\\site-packages\\sklearn\\model_selection\\_validation.py\", line 729, in _fit_and_score\n",
      "    estimator.fit(X_train, y_train, **fit_params)\n",
      "  File \"C:\\Users\\Usuario\\AppData\\Local\\Programs\\Python\\Python312\\Lib\\site-packages\\sklearn\\base.py\", line 1152, in wrapper\n",
      "    return fit_method(estimator, *args, **kwargs)\n",
      "           ^^^^^^^^^^^^^^^^^^^^^^^^^^^^^^^^^^^^^^\n",
      "  File \"C:\\Users\\Usuario\\AppData\\Local\\Programs\\Python\\Python312\\Lib\\site-packages\\sklearn\\pipeline.py\", line 427, in fit\n",
      "    self._final_estimator.fit(Xt, y, **fit_params_last_step)\n",
      "  File \"C:\\Users\\Usuario\\AppData\\Local\\Programs\\Python\\Python312\\Lib\\site-packages\\sklearn\\base.py\", line 1152, in wrapper\n",
      "    return fit_method(estimator, *args, **kwargs)\n",
      "           ^^^^^^^^^^^^^^^^^^^^^^^^^^^^^^^^^^^^^^\n",
      "  File \"C:\\Users\\Usuario\\AppData\\Local\\Programs\\Python\\Python312\\Lib\\site-packages\\sklearn\\linear_model\\_logistic.py\", line 1179, in fit\n",
      "    raise ValueError(\"l1_ratio must be specified when penalty is elasticnet.\")\n",
      "ValueError: l1_ratio must be specified when penalty is elasticnet.\n",
      "\n",
      "  warnings.warn(some_fits_failed_message, FitFailedWarning)\n",
      "C:\\Users\\Usuario\\AppData\\Local\\Programs\\Python\\Python312\\Lib\\site-packages\\sklearn\\model_selection\\_search.py:979: UserWarning: One or more of the test scores are non-finite: [0.50892126 0.50439235        nan 0.50469959 0.50435822        nan\n",
      " 0.50441511 0.50435822        nan 0.50435822 0.50432408        nan\n",
      " 0.50435822 0.50434684        nan]\n",
      "  warnings.warn(\n"
     ]
    },
    {
     "name": "stdout",
     "output_type": "stream",
     "text": [
      "Best parameters found:  {'logreg__C': 0.01, 'logreg__penalty': 'l1', 'logreg__solver': 'saga'}\n",
      "Confusion Matrix:\n",
      "[[4176 6908]\n",
      " [3935 6951]]\n",
      "\n",
      "Classification Report:\n",
      "              precision    recall  f1-score   support\n",
      "\n",
      "           0       0.51      0.38      0.44     11084\n",
      "           1       0.50      0.64      0.56     10886\n",
      "\n",
      "    accuracy                           0.51     21970\n",
      "   macro avg       0.51      0.51      0.50     21970\n",
      "weighted avg       0.51      0.51      0.50     21970\n",
      "\n",
      "\n",
      "Accuracy Score:\n",
      "0.506463359126081\n"
     ]
    }
   ],
   "source": [
    "# Define features and target\n",
    "X = final_df[['pixel_density', 'brightness', 'std_deviation']]\n",
    "y = final_df['diagnosis']\n",
    "\n",
    "# Split the data into training and testing sets\n",
    "X_train, X_test, y_train, y_test = train_test_split(X, y, test_size=0.2, random_state=42)\n",
    "\n",
    "# Create a pipeline with scaling and logistic regression\n",
    "pipeline = Pipeline([\n",
    "    ('scaler', StandardScaler()),\n",
    "    ('logreg', LogisticRegression(max_iter=1000))\n",
    "])\n",
    "\n",
    "# Define the hyperparameters grid\n",
    "param_grid = {\n",
    "    'logreg__C': [0.01, 0.1, 1, 10, 100],\n",
    "    'logreg__penalty': ['l1', 'l2', 'elasticnet'],\n",
    "    'logreg__solver': ['saga']\n",
    "}\n",
    "\n",
    "# Create GridSearchCV\n",
    "grid_search = GridSearchCV(pipeline, param_grid, cv=5, scoring='accuracy', n_jobs=-1)\n",
    "\n",
    "# Fit the model\n",
    "grid_search.fit(X_train, y_train)\n",
    "\n",
    "# Best parameters\n",
    "print(\"Best parameters found: \", grid_search.best_params_)\n",
    "\n",
    "# Make predictions\n",
    "y_pred = grid_search.best_estimator_.predict(X_test)\n",
    "\n",
    "# Evaluate the model\n",
    "print(\"Confusion Matrix:\")\n",
    "print(confusion_matrix(y_test, y_pred))\n",
    "print(\"\\nClassification Report:\")\n",
    "print(classification_report(y_test, y_pred))\n",
    "print(\"\\nAccuracy Score:\")\n",
    "print(accuracy_score(y_test, y_pred))"
   ]
  },
  {
   "cell_type": "markdown",
   "id": "8ab5c381-c128-4ef9-a278-81b7750aa67c",
   "metadata": {},
   "source": [
    "### Implementación de random forest"
   ]
  },
  {
   "cell_type": "code",
   "execution_count": 33,
   "id": "2a68a23e-3574-4db1-8cfc-e78547dfdcb2",
   "metadata": {},
   "outputs": [],
   "source": [
    "from sklearn.ensemble import RandomForestClassifier\n",
    "from sklearn.metrics import classification_report, confusion_matrix, accuracy_score\n",
    "from sklearn.model_selection import train_test_split"
   ]
  },
  {
   "cell_type": "code",
   "execution_count": 34,
   "id": "420dfe34-03d1-474c-b9a8-9e1d51586cd4",
   "metadata": {},
   "outputs": [
    {
     "name": "stdout",
     "output_type": "stream",
     "text": [
      "Confusion Matrix:\n",
      "[[6456 4628]\n",
      " [3345 7541]]\n",
      "\n",
      "Classification Report:\n",
      "              precision    recall  f1-score   support\n",
      "\n",
      "           0       0.66      0.58      0.62     11084\n",
      "           1       0.62      0.69      0.65     10886\n",
      "\n",
      "    accuracy                           0.64     21970\n",
      "   macro avg       0.64      0.64      0.64     21970\n",
      "weighted avg       0.64      0.64      0.64     21970\n",
      "\n",
      "\n",
      "Accuracy Score:\n",
      "0.63709604005462\n"
     ]
    }
   ],
   "source": [
    "# Define features and target\n",
    "X = final_df[['pixel_density', 'brightness', 'std_deviation']]\n",
    "y = final_df['diagnosis']\n",
    "\n",
    "# Split the data into training and testing sets\n",
    "X_train, X_test, y_train, y_test = train_test_split(X, y, test_size=0.2, random_state=42)\n",
    "\n",
    "# Create the Random Forest model\n",
    "rf_model = RandomForestClassifier(n_estimators=100, random_state=42)\n",
    "\n",
    "# Train the model\n",
    "rf_model.fit(X_train, y_train)\n",
    "\n",
    "# Make predictions\n",
    "y_pred = rf_model.predict(X_test)\n",
    "\n",
    "# Evaluate the model\n",
    "print(\"Confusion Matrix:\")\n",
    "print(confusion_matrix(y_test, y_pred))\n",
    "print(\"\\nClassification Report:\")\n",
    "print(classification_report(y_test, y_pred))\n",
    "print(\"\\nAccuracy Score:\")\n",
    "print(accuracy_score(y_test, y_pred))"
   ]
  },
  {
   "cell_type": "markdown",
   "id": "c48e7d05-5659-491e-a3b3-20161f781518",
   "metadata": {},
   "source": [
    "### Random forest with hyperparams"
   ]
  },
  {
   "cell_type": "code",
   "execution_count": 35,
   "id": "ada3a56d-84a4-4da0-b5c6-06481ee8e9c8",
   "metadata": {},
   "outputs": [],
   "source": [
    "from sklearn.ensemble import GradientBoostingClassifier\n",
    "from sklearn.svm import SVC"
   ]
  },
  {
   "cell_type": "code",
   "execution_count": 39,
   "id": "de3a60ef-2365-4100-8ab8-22cfbc638ffb",
   "metadata": {},
   "outputs": [
    {
     "name": "stdout",
     "output_type": "stream",
     "text": [
      "Running GridSearchCV for Random Forest...\n",
      "Best parameters for Random Forest: {'model__max_depth': 20, 'model__min_samples_split': 10, 'model__n_estimators': 200}\n",
      "Best score for Random Forest: 0.7466772872098316\n",
      "\n",
      "Confusion Matrix:\n",
      "[[ 6262  4822]\n",
      " [  754 10132]]\n",
      "\n",
      "Classification Report:\n",
      "              precision    recall  f1-score   support\n",
      "\n",
      "           0       0.89      0.56      0.69     11084\n",
      "           1       0.68      0.93      0.78     10886\n",
      "\n",
      "    accuracy                           0.75     21970\n",
      "   macro avg       0.79      0.75      0.74     21970\n",
      "weighted avg       0.79      0.75      0.74     21970\n",
      "\n",
      "\n",
      "Accuracy Score:\n",
      "0.7461993627674101\n"
     ]
    }
   ],
   "source": [
    "# Load the final dataframe\n",
    "final_df = pd.read_csv(\"featuresTest/combined_features.csv\")\n",
    "\n",
    "# Define features and target\n",
    "X = final_df[['pixel_density', 'brightness', 'std_deviation']]\n",
    "y = final_df['diagnosis']\n",
    "\n",
    "# Split the data into training and testing sets\n",
    "X_train, X_test, y_train, y_test = train_test_split(X, y, test_size=0.2, random_state=42)\n",
    "\n",
    "# Define Random Forest parameter grid\n",
    "param_grid_rf = {\n",
    "    'model__n_estimators': [100, 200],\n",
    "    'model__max_depth': [None, 10, 20],\n",
    "    'model__min_samples_split': [2, 5, 10],\n",
    "}\n",
    "\n",
    "# Define Random Forest model\n",
    "rf_model = RandomForestClassifier(random_state=42)\n",
    "\n",
    "# Define pipeline\n",
    "pipeline_rf = Pipeline([('scaler', StandardScaler()), ('model', rf_model)])\n",
    "\n",
    "# Perform GridSearchCV\n",
    "print(\"Running GridSearchCV for Random Forest...\")\n",
    "grid_search_rf = GridSearchCV(pipeline_rf, param_grid_rf, cv=5, scoring='accuracy', n_jobs=-1)\n",
    "grid_search_rf.fit(X_train, y_train)\n",
    "\n",
    "# Store the best estimator\n",
    "best_rf = grid_search_rf.best_estimator_\n",
    "\n",
    "print(f\"Best parameters for Random Forest: {grid_search_rf.best_params_}\")\n",
    "print(f\"Best score for Random Forest: {grid_search_rf.best_score_}\")\n",
    "\n",
    "# Evaluate the model\n",
    "y_pred_rf = best_rf.predict(X_test)\n",
    "print(\"\\nConfusion Matrix:\")\n",
    "print(confusion_matrix(y_test, y_pred_rf))\n",
    "print(\"\\nClassification Report:\")\n",
    "print(classification_report(y_test, y_pred_rf))\n",
    "print(\"\\nAccuracy Score:\")\n",
    "print(accuracy_score(y_test, y_pred_rf))"
   ]
  },
  {
   "cell_type": "markdown",
   "id": "61fda0bc-2811-4925-bef3-b4a8b4404d94",
   "metadata": {},
   "source": [
    "### Gradient boost normi"
   ]
  },
  {
   "cell_type": "code",
   "execution_count": 41,
   "id": "f902a3c3-d43d-4341-9e1c-361266c20aaa",
   "metadata": {},
   "outputs": [
    {
     "name": "stdout",
     "output_type": "stream",
     "text": [
      "\n",
      "Gradient Boosting Model Evaluation\n",
      "\n",
      "Confusion Matrix:\n",
      "[[5815 5269]\n",
      " [ 906 9980]]\n",
      "\n",
      "Classification Report:\n",
      "              precision    recall  f1-score   support\n",
      "\n",
      "           0       0.87      0.52      0.65     11084\n",
      "           1       0.65      0.92      0.76     10886\n",
      "\n",
      "    accuracy                           0.72     21970\n",
      "   macro avg       0.76      0.72      0.71     21970\n",
      "weighted avg       0.76      0.72      0.71     21970\n",
      "\n",
      "\n",
      "Accuracy Score:\n",
      "0.7189349112426036\n"
     ]
    }
   ],
   "source": [
    "# Load the final dataframe\n",
    "final_df = pd.read_csv(\"featuresTest/combined_features.csv\")\n",
    "\n",
    "# Define features and target\n",
    "X = final_df[['pixel_density', 'brightness', 'std_deviation']]\n",
    "y = final_df['diagnosis']\n",
    "\n",
    "# Split the data into training and testing sets\n",
    "X_train, X_test, y_train, y_test = train_test_split(X, y, test_size=0.2, random_state=42)\n",
    "\n",
    "# Define Gradient Boosting model\n",
    "gbm_model = GradientBoostingClassifier(random_state=42)\n",
    "\n",
    "# Define pipeline\n",
    "pipeline_gbm = Pipeline([('scaler', StandardScaler()), ('model', gbm_model)])\n",
    "\n",
    "# Train the model\n",
    "pipeline_gbm.fit(X_train, y_train)\n",
    "\n",
    "# Evaluate the model\n",
    "y_pred_gbm = pipeline_gbm.predict(X_test)\n",
    "print(\"\\nGradient Boosting Model Evaluation\")\n",
    "print(\"\\nConfusion Matrix:\")\n",
    "print(confusion_matrix(y_test, y_pred_gbm))\n",
    "print(\"\\nClassification Report:\")\n",
    "print(classification_report(y_test, y_pred_gbm))\n",
    "print(\"\\nAccuracy Score:\")\n",
    "print(accuracy_score(y_test, y_pred_gbm))"
   ]
  },
  {
   "cell_type": "markdown",
   "id": "f7a5cf14-a884-4bb9-9080-976c79d7dd6f",
   "metadata": {},
   "source": [
    "## Gradient boost hyperparams"
   ]
  },
  {
   "cell_type": "code",
   "execution_count": 42,
   "id": "308ed37e-035b-4f73-ba53-b50fff7a9956",
   "metadata": {},
   "outputs": [
    {
     "name": "stdout",
     "output_type": "stream",
     "text": [
      "Running GridSearchCV for Gradient Boosting...\n",
      "Best parameters for Gradient Boosting: {'model__learning_rate': 0.1, 'model__max_depth': 5, 'model__n_estimators': 200}\n",
      "Best score for Gradient Boosting: 0.7532885753299954\n",
      "\n",
      "Confusion Matrix:\n",
      "[[ 6253  4831]\n",
      " [  663 10223]]\n",
      "\n",
      "Classification Report:\n",
      "              precision    recall  f1-score   support\n",
      "\n",
      "           0       0.90      0.56      0.69     11084\n",
      "           1       0.68      0.94      0.79     10886\n",
      "\n",
      "    accuracy                           0.75     21970\n",
      "   macro avg       0.79      0.75      0.74     21970\n",
      "weighted avg       0.79      0.75      0.74     21970\n",
      "\n",
      "\n",
      "Accuracy Score:\n",
      "0.7499317250796541\n"
     ]
    }
   ],
   "source": [
    "# Define Gradient Boosting parameter grid\n",
    "param_grid_gbm = {\n",
    "    'model__n_estimators': [100, 200],\n",
    "    'model__learning_rate': [0.01, 0.1, 1],\n",
    "    'model__max_depth': [3, 5, 7],\n",
    "}\n",
    "\n",
    "# Define Gradient Boosting model\n",
    "gbm_model = GradientBoostingClassifier(random_state=42)\n",
    "\n",
    "# Define pipeline\n",
    "pipeline_gbm = Pipeline([('scaler', StandardScaler()), ('model', gbm_model)])\n",
    "\n",
    "# Perform GridSearchCV\n",
    "print(\"Running GridSearchCV for Gradient Boosting...\")\n",
    "grid_search_gbm = GridSearchCV(pipeline_gbm, param_grid_gbm, cv=5, scoring='accuracy', n_jobs=-1)\n",
    "grid_search_gbm.fit(X_train, y_train)\n",
    "\n",
    "# Store the best estimator\n",
    "best_gbm = grid_search_gbm.best_estimator_\n",
    "\n",
    "print(f\"Best parameters for Gradient Boosting: {grid_search_gbm.best_params_}\")\n",
    "print(f\"Best score for Gradient Boosting: {grid_search_gbm.best_score_}\")\n",
    "\n",
    "# Evaluate the model\n",
    "y_pred_gbm = best_gbm.predict(X_test)\n",
    "print(\"\\nConfusion Matrix:\")\n",
    "print(confusion_matrix(y_test, y_pred_gbm))\n",
    "print(\"\\nClassification Report:\")\n",
    "print(classification_report(y_test, y_pred_gbm))\n",
    "print(\"\\nAccuracy Score:\")\n",
    "print(accuracy_score(y_test, y_pred_gbm))"
   ]
  },
  {
   "cell_type": "markdown",
   "id": "6ed53b2c-7624-4a20-aae9-24bab456f48c",
   "metadata": {},
   "source": [
    "### Support vector machine normie"
   ]
  },
  {
   "cell_type": "code",
   "execution_count": 44,
   "id": "863c1360-8df2-438a-9cc5-851a19a6e7e4",
   "metadata": {},
   "outputs": [
    {
     "name": "stdout",
     "output_type": "stream",
     "text": [
      "\n",
      "Support Vector Machines Model Evaluation\n",
      "\n",
      "Confusion Matrix:\n",
      "[[ 4253  6831]\n",
      " [  218 10668]]\n",
      "\n",
      "Classification Report:\n",
      "              precision    recall  f1-score   support\n",
      "\n",
      "           0       0.95      0.38      0.55     11084\n",
      "           1       0.61      0.98      0.75     10886\n",
      "\n",
      "    accuracy                           0.68     21970\n",
      "   macro avg       0.78      0.68      0.65     21970\n",
      "weighted avg       0.78      0.68      0.65     21970\n",
      "\n",
      "\n",
      "Accuracy Score:\n",
      "0.6791533909877105\n"
     ]
    }
   ],
   "source": [
    "# Load the final dataframe\n",
    "final_df = pd.read_csv(\"featuresTest/combined_features.csv\")\n",
    "\n",
    "# Define features and target\n",
    "X = final_df[['pixel_density', 'brightness', 'std_deviation']]\n",
    "y = final_df['diagnosis']\n",
    "\n",
    "# Split the data into training and testing sets\n",
    "X_train, X_test, y_train, y_test = train_test_split(X, y, test_size=0.2, random_state=42)\n",
    "\n",
    "# Define SVM model\n",
    "svm_model = SVC(probability=True, random_state=42)\n",
    "\n",
    "# Define pipeline\n",
    "pipeline_svm = Pipeline([('scaler', StandardScaler()), ('model', svm_model)])\n",
    "\n",
    "# Train the model\n",
    "pipeline_svm.fit(X_train, y_train)\n",
    "\n",
    "# Evaluate the model\n",
    "y_pred_svm = pipeline_svm.predict(X_test)\n",
    "print(\"\\nSupport Vector Machines Model Evaluation\")\n",
    "print(\"\\nConfusion Matrix:\")\n",
    "print(confusion_matrix(y_test, y_pred_svm))\n",
    "print(\"\\nClassification Report:\")\n",
    "print(classification_report(y_test, y_pred_svm))\n",
    "print(\"\\nAccuracy Score:\")\n",
    "print(accuracy_score(y_test, y_pred_svm))"
   ]
  },
  {
   "cell_type": "markdown",
   "id": "b7531371-2ed3-496a-a4e4-18a8ed19055d",
   "metadata": {},
   "source": [
    "## Svm hyperparams"
   ]
  },
  {
   "cell_type": "code",
   "execution_count": 45,
   "id": "cde74afd-ef47-4856-9030-01a21a0ddbcf",
   "metadata": {},
   "outputs": [
    {
     "name": "stdout",
     "output_type": "stream",
     "text": [
      "Running GridSearchCV for SVM...\n"
     ]
    },
    {
     "ename": "KeyboardInterrupt",
     "evalue": "",
     "output_type": "error",
     "traceback": [
      "\u001b[1;31m---------------------------------------------------------------------------\u001b[0m",
      "\u001b[1;31mKeyboardInterrupt\u001b[0m                         Traceback (most recent call last)",
      "Cell \u001b[1;32mIn[45], line 17\u001b[0m\n\u001b[0;32m     15\u001b[0m \u001b[38;5;28mprint\u001b[39m(\u001b[38;5;124m\"\u001b[39m\u001b[38;5;124mRunning GridSearchCV for SVM...\u001b[39m\u001b[38;5;124m\"\u001b[39m)\n\u001b[0;32m     16\u001b[0m grid_search_svm \u001b[38;5;241m=\u001b[39m GridSearchCV(pipeline_svm, param_grid_svm, cv\u001b[38;5;241m=\u001b[39m\u001b[38;5;241m5\u001b[39m, scoring\u001b[38;5;241m=\u001b[39m\u001b[38;5;124m'\u001b[39m\u001b[38;5;124maccuracy\u001b[39m\u001b[38;5;124m'\u001b[39m, n_jobs\u001b[38;5;241m=\u001b[39m\u001b[38;5;241m-\u001b[39m\u001b[38;5;241m1\u001b[39m)\n\u001b[1;32m---> 17\u001b[0m \u001b[43mgrid_search_svm\u001b[49m\u001b[38;5;241;43m.\u001b[39;49m\u001b[43mfit\u001b[49m\u001b[43m(\u001b[49m\u001b[43mX_train\u001b[49m\u001b[43m,\u001b[49m\u001b[43m \u001b[49m\u001b[43my_train\u001b[49m\u001b[43m)\u001b[49m\n\u001b[0;32m     19\u001b[0m \u001b[38;5;66;03m# Store the best estimator\u001b[39;00m\n\u001b[0;32m     20\u001b[0m best_svm \u001b[38;5;241m=\u001b[39m grid_search_svm\u001b[38;5;241m.\u001b[39mbest_estimator_\n",
      "File \u001b[1;32m~\\AppData\\Local\\Programs\\Python\\Python312\\Lib\\site-packages\\sklearn\\base.py:1152\u001b[0m, in \u001b[0;36m_fit_context.<locals>.decorator.<locals>.wrapper\u001b[1;34m(estimator, *args, **kwargs)\u001b[0m\n\u001b[0;32m   1145\u001b[0m     estimator\u001b[38;5;241m.\u001b[39m_validate_params()\n\u001b[0;32m   1147\u001b[0m \u001b[38;5;28;01mwith\u001b[39;00m config_context(\n\u001b[0;32m   1148\u001b[0m     skip_parameter_validation\u001b[38;5;241m=\u001b[39m(\n\u001b[0;32m   1149\u001b[0m         prefer_skip_nested_validation \u001b[38;5;129;01mor\u001b[39;00m global_skip_validation\n\u001b[0;32m   1150\u001b[0m     )\n\u001b[0;32m   1151\u001b[0m ):\n\u001b[1;32m-> 1152\u001b[0m     \u001b[38;5;28;01mreturn\u001b[39;00m \u001b[43mfit_method\u001b[49m\u001b[43m(\u001b[49m\u001b[43mestimator\u001b[49m\u001b[43m,\u001b[49m\u001b[43m \u001b[49m\u001b[38;5;241;43m*\u001b[39;49m\u001b[43margs\u001b[49m\u001b[43m,\u001b[49m\u001b[43m \u001b[49m\u001b[38;5;241;43m*\u001b[39;49m\u001b[38;5;241;43m*\u001b[39;49m\u001b[43mkwargs\u001b[49m\u001b[43m)\u001b[49m\n",
      "File \u001b[1;32m~\\AppData\\Local\\Programs\\Python\\Python312\\Lib\\site-packages\\sklearn\\model_selection\\_search.py:898\u001b[0m, in \u001b[0;36mBaseSearchCV.fit\u001b[1;34m(self, X, y, groups, **fit_params)\u001b[0m\n\u001b[0;32m    892\u001b[0m     results \u001b[38;5;241m=\u001b[39m \u001b[38;5;28mself\u001b[39m\u001b[38;5;241m.\u001b[39m_format_results(\n\u001b[0;32m    893\u001b[0m         all_candidate_params, n_splits, all_out, all_more_results\n\u001b[0;32m    894\u001b[0m     )\n\u001b[0;32m    896\u001b[0m     \u001b[38;5;28;01mreturn\u001b[39;00m results\n\u001b[1;32m--> 898\u001b[0m \u001b[38;5;28;43mself\u001b[39;49m\u001b[38;5;241;43m.\u001b[39;49m\u001b[43m_run_search\u001b[49m\u001b[43m(\u001b[49m\u001b[43mevaluate_candidates\u001b[49m\u001b[43m)\u001b[49m\n\u001b[0;32m    900\u001b[0m \u001b[38;5;66;03m# multimetric is determined here because in the case of a callable\u001b[39;00m\n\u001b[0;32m    901\u001b[0m \u001b[38;5;66;03m# self.scoring the return type is only known after calling\u001b[39;00m\n\u001b[0;32m    902\u001b[0m first_test_score \u001b[38;5;241m=\u001b[39m all_out[\u001b[38;5;241m0\u001b[39m][\u001b[38;5;124m\"\u001b[39m\u001b[38;5;124mtest_scores\u001b[39m\u001b[38;5;124m\"\u001b[39m]\n",
      "File \u001b[1;32m~\\AppData\\Local\\Programs\\Python\\Python312\\Lib\\site-packages\\sklearn\\model_selection\\_search.py:1422\u001b[0m, in \u001b[0;36mGridSearchCV._run_search\u001b[1;34m(self, evaluate_candidates)\u001b[0m\n\u001b[0;32m   1420\u001b[0m \u001b[38;5;28;01mdef\u001b[39;00m \u001b[38;5;21m_run_search\u001b[39m(\u001b[38;5;28mself\u001b[39m, evaluate_candidates):\n\u001b[0;32m   1421\u001b[0m \u001b[38;5;250m    \u001b[39m\u001b[38;5;124;03m\"\"\"Search all candidates in param_grid\"\"\"\u001b[39;00m\n\u001b[1;32m-> 1422\u001b[0m     \u001b[43mevaluate_candidates\u001b[49m\u001b[43m(\u001b[49m\u001b[43mParameterGrid\u001b[49m\u001b[43m(\u001b[49m\u001b[38;5;28;43mself\u001b[39;49m\u001b[38;5;241;43m.\u001b[39;49m\u001b[43mparam_grid\u001b[49m\u001b[43m)\u001b[49m\u001b[43m)\u001b[49m\n",
      "File \u001b[1;32m~\\AppData\\Local\\Programs\\Python\\Python312\\Lib\\site-packages\\sklearn\\model_selection\\_search.py:845\u001b[0m, in \u001b[0;36mBaseSearchCV.fit.<locals>.evaluate_candidates\u001b[1;34m(candidate_params, cv, more_results)\u001b[0m\n\u001b[0;32m    837\u001b[0m \u001b[38;5;28;01mif\u001b[39;00m \u001b[38;5;28mself\u001b[39m\u001b[38;5;241m.\u001b[39mverbose \u001b[38;5;241m>\u001b[39m \u001b[38;5;241m0\u001b[39m:\n\u001b[0;32m    838\u001b[0m     \u001b[38;5;28mprint\u001b[39m(\n\u001b[0;32m    839\u001b[0m         \u001b[38;5;124m\"\u001b[39m\u001b[38;5;124mFitting \u001b[39m\u001b[38;5;132;01m{0}\u001b[39;00m\u001b[38;5;124m folds for each of \u001b[39m\u001b[38;5;132;01m{1}\u001b[39;00m\u001b[38;5;124m candidates,\u001b[39m\u001b[38;5;124m\"\u001b[39m\n\u001b[0;32m    840\u001b[0m         \u001b[38;5;124m\"\u001b[39m\u001b[38;5;124m totalling \u001b[39m\u001b[38;5;132;01m{2}\u001b[39;00m\u001b[38;5;124m fits\u001b[39m\u001b[38;5;124m\"\u001b[39m\u001b[38;5;241m.\u001b[39mformat(\n\u001b[0;32m    841\u001b[0m             n_splits, n_candidates, n_candidates \u001b[38;5;241m*\u001b[39m n_splits\n\u001b[0;32m    842\u001b[0m         )\n\u001b[0;32m    843\u001b[0m     )\n\u001b[1;32m--> 845\u001b[0m out \u001b[38;5;241m=\u001b[39m \u001b[43mparallel\u001b[49m\u001b[43m(\u001b[49m\n\u001b[0;32m    846\u001b[0m \u001b[43m    \u001b[49m\u001b[43mdelayed\u001b[49m\u001b[43m(\u001b[49m\u001b[43m_fit_and_score\u001b[49m\u001b[43m)\u001b[49m\u001b[43m(\u001b[49m\n\u001b[0;32m    847\u001b[0m \u001b[43m        \u001b[49m\u001b[43mclone\u001b[49m\u001b[43m(\u001b[49m\u001b[43mbase_estimator\u001b[49m\u001b[43m)\u001b[49m\u001b[43m,\u001b[49m\n\u001b[0;32m    848\u001b[0m \u001b[43m        \u001b[49m\u001b[43mX\u001b[49m\u001b[43m,\u001b[49m\n\u001b[0;32m    849\u001b[0m \u001b[43m        \u001b[49m\u001b[43my\u001b[49m\u001b[43m,\u001b[49m\n\u001b[0;32m    850\u001b[0m \u001b[43m        \u001b[49m\u001b[43mtrain\u001b[49m\u001b[38;5;241;43m=\u001b[39;49m\u001b[43mtrain\u001b[49m\u001b[43m,\u001b[49m\n\u001b[0;32m    851\u001b[0m \u001b[43m        \u001b[49m\u001b[43mtest\u001b[49m\u001b[38;5;241;43m=\u001b[39;49m\u001b[43mtest\u001b[49m\u001b[43m,\u001b[49m\n\u001b[0;32m    852\u001b[0m \u001b[43m        \u001b[49m\u001b[43mparameters\u001b[49m\u001b[38;5;241;43m=\u001b[39;49m\u001b[43mparameters\u001b[49m\u001b[43m,\u001b[49m\n\u001b[0;32m    853\u001b[0m \u001b[43m        \u001b[49m\u001b[43msplit_progress\u001b[49m\u001b[38;5;241;43m=\u001b[39;49m\u001b[43m(\u001b[49m\u001b[43msplit_idx\u001b[49m\u001b[43m,\u001b[49m\u001b[43m \u001b[49m\u001b[43mn_splits\u001b[49m\u001b[43m)\u001b[49m\u001b[43m,\u001b[49m\n\u001b[0;32m    854\u001b[0m \u001b[43m        \u001b[49m\u001b[43mcandidate_progress\u001b[49m\u001b[38;5;241;43m=\u001b[39;49m\u001b[43m(\u001b[49m\u001b[43mcand_idx\u001b[49m\u001b[43m,\u001b[49m\u001b[43m \u001b[49m\u001b[43mn_candidates\u001b[49m\u001b[43m)\u001b[49m\u001b[43m,\u001b[49m\n\u001b[0;32m    855\u001b[0m \u001b[43m        \u001b[49m\u001b[38;5;241;43m*\u001b[39;49m\u001b[38;5;241;43m*\u001b[39;49m\u001b[43mfit_and_score_kwargs\u001b[49m\u001b[43m,\u001b[49m\n\u001b[0;32m    856\u001b[0m \u001b[43m    \u001b[49m\u001b[43m)\u001b[49m\n\u001b[0;32m    857\u001b[0m \u001b[43m    \u001b[49m\u001b[38;5;28;43;01mfor\u001b[39;49;00m\u001b[43m \u001b[49m\u001b[43m(\u001b[49m\u001b[43mcand_idx\u001b[49m\u001b[43m,\u001b[49m\u001b[43m \u001b[49m\u001b[43mparameters\u001b[49m\u001b[43m)\u001b[49m\u001b[43m,\u001b[49m\u001b[43m \u001b[49m\u001b[43m(\u001b[49m\u001b[43msplit_idx\u001b[49m\u001b[43m,\u001b[49m\u001b[43m \u001b[49m\u001b[43m(\u001b[49m\u001b[43mtrain\u001b[49m\u001b[43m,\u001b[49m\u001b[43m \u001b[49m\u001b[43mtest\u001b[49m\u001b[43m)\u001b[49m\u001b[43m)\u001b[49m\u001b[43m \u001b[49m\u001b[38;5;129;43;01min\u001b[39;49;00m\u001b[43m \u001b[49m\u001b[43mproduct\u001b[49m\u001b[43m(\u001b[49m\n\u001b[0;32m    858\u001b[0m \u001b[43m        \u001b[49m\u001b[38;5;28;43menumerate\u001b[39;49m\u001b[43m(\u001b[49m\u001b[43mcandidate_params\u001b[49m\u001b[43m)\u001b[49m\u001b[43m,\u001b[49m\u001b[43m \u001b[49m\u001b[38;5;28;43menumerate\u001b[39;49m\u001b[43m(\u001b[49m\u001b[43mcv\u001b[49m\u001b[38;5;241;43m.\u001b[39;49m\u001b[43msplit\u001b[49m\u001b[43m(\u001b[49m\u001b[43mX\u001b[49m\u001b[43m,\u001b[49m\u001b[43m \u001b[49m\u001b[43my\u001b[49m\u001b[43m,\u001b[49m\u001b[43m \u001b[49m\u001b[43mgroups\u001b[49m\u001b[43m)\u001b[49m\u001b[43m)\u001b[49m\n\u001b[0;32m    859\u001b[0m \u001b[43m    \u001b[49m\u001b[43m)\u001b[49m\n\u001b[0;32m    860\u001b[0m \u001b[43m\u001b[49m\u001b[43m)\u001b[49m\n\u001b[0;32m    862\u001b[0m \u001b[38;5;28;01mif\u001b[39;00m \u001b[38;5;28mlen\u001b[39m(out) \u001b[38;5;241m<\u001b[39m \u001b[38;5;241m1\u001b[39m:\n\u001b[0;32m    863\u001b[0m     \u001b[38;5;28;01mraise\u001b[39;00m \u001b[38;5;167;01mValueError\u001b[39;00m(\n\u001b[0;32m    864\u001b[0m         \u001b[38;5;124m\"\u001b[39m\u001b[38;5;124mNo fits were performed. \u001b[39m\u001b[38;5;124m\"\u001b[39m\n\u001b[0;32m    865\u001b[0m         \u001b[38;5;124m\"\u001b[39m\u001b[38;5;124mWas the CV iterator empty? \u001b[39m\u001b[38;5;124m\"\u001b[39m\n\u001b[0;32m    866\u001b[0m         \u001b[38;5;124m\"\u001b[39m\u001b[38;5;124mWere there no candidates?\u001b[39m\u001b[38;5;124m\"\u001b[39m\n\u001b[0;32m    867\u001b[0m     )\n",
      "File \u001b[1;32m~\\AppData\\Local\\Programs\\Python\\Python312\\Lib\\site-packages\\sklearn\\utils\\parallel.py:65\u001b[0m, in \u001b[0;36mParallel.__call__\u001b[1;34m(self, iterable)\u001b[0m\n\u001b[0;32m     60\u001b[0m config \u001b[38;5;241m=\u001b[39m get_config()\n\u001b[0;32m     61\u001b[0m iterable_with_config \u001b[38;5;241m=\u001b[39m (\n\u001b[0;32m     62\u001b[0m     (_with_config(delayed_func, config), args, kwargs)\n\u001b[0;32m     63\u001b[0m     \u001b[38;5;28;01mfor\u001b[39;00m delayed_func, args, kwargs \u001b[38;5;129;01min\u001b[39;00m iterable\n\u001b[0;32m     64\u001b[0m )\n\u001b[1;32m---> 65\u001b[0m \u001b[38;5;28;01mreturn\u001b[39;00m \u001b[38;5;28;43msuper\u001b[39;49m\u001b[43m(\u001b[49m\u001b[43m)\u001b[49m\u001b[38;5;241;43m.\u001b[39;49m\u001b[38;5;21;43m__call__\u001b[39;49m\u001b[43m(\u001b[49m\u001b[43miterable_with_config\u001b[49m\u001b[43m)\u001b[49m\n",
      "File \u001b[1;32m~\\AppData\\Local\\Programs\\Python\\Python312\\Lib\\site-packages\\joblib\\parallel.py:1952\u001b[0m, in \u001b[0;36mParallel.__call__\u001b[1;34m(self, iterable)\u001b[0m\n\u001b[0;32m   1946\u001b[0m \u001b[38;5;66;03m# The first item from the output is blank, but it makes the interpreter\u001b[39;00m\n\u001b[0;32m   1947\u001b[0m \u001b[38;5;66;03m# progress until it enters the Try/Except block of the generator and\u001b[39;00m\n\u001b[0;32m   1948\u001b[0m \u001b[38;5;66;03m# reach the first `yield` statement. This starts the aynchronous\u001b[39;00m\n\u001b[0;32m   1949\u001b[0m \u001b[38;5;66;03m# dispatch of the tasks to the workers.\u001b[39;00m\n\u001b[0;32m   1950\u001b[0m \u001b[38;5;28mnext\u001b[39m(output)\n\u001b[1;32m-> 1952\u001b[0m \u001b[38;5;28;01mreturn\u001b[39;00m output \u001b[38;5;28;01mif\u001b[39;00m \u001b[38;5;28mself\u001b[39m\u001b[38;5;241m.\u001b[39mreturn_generator \u001b[38;5;28;01melse\u001b[39;00m \u001b[38;5;28;43mlist\u001b[39;49m\u001b[43m(\u001b[49m\u001b[43moutput\u001b[49m\u001b[43m)\u001b[49m\n",
      "File \u001b[1;32m~\\AppData\\Local\\Programs\\Python\\Python312\\Lib\\site-packages\\joblib\\parallel.py:1595\u001b[0m, in \u001b[0;36mParallel._get_outputs\u001b[1;34m(self, iterator, pre_dispatch)\u001b[0m\n\u001b[0;32m   1592\u001b[0m     \u001b[38;5;28;01myield\u001b[39;00m\n\u001b[0;32m   1594\u001b[0m     \u001b[38;5;28;01mwith\u001b[39;00m \u001b[38;5;28mself\u001b[39m\u001b[38;5;241m.\u001b[39m_backend\u001b[38;5;241m.\u001b[39mretrieval_context():\n\u001b[1;32m-> 1595\u001b[0m         \u001b[38;5;28;01myield from\u001b[39;00m \u001b[38;5;28mself\u001b[39m\u001b[38;5;241m.\u001b[39m_retrieve()\n\u001b[0;32m   1597\u001b[0m \u001b[38;5;28;01mexcept\u001b[39;00m \u001b[38;5;167;01mGeneratorExit\u001b[39;00m:\n\u001b[0;32m   1598\u001b[0m     \u001b[38;5;66;03m# The generator has been garbage collected before being fully\u001b[39;00m\n\u001b[0;32m   1599\u001b[0m     \u001b[38;5;66;03m# consumed. This aborts the remaining tasks if possible and warn\u001b[39;00m\n\u001b[0;32m   1600\u001b[0m     \u001b[38;5;66;03m# the user if necessary.\u001b[39;00m\n\u001b[0;32m   1601\u001b[0m     \u001b[38;5;28mself\u001b[39m\u001b[38;5;241m.\u001b[39m_exception \u001b[38;5;241m=\u001b[39m \u001b[38;5;28;01mTrue\u001b[39;00m\n",
      "File \u001b[1;32m~\\AppData\\Local\\Programs\\Python\\Python312\\Lib\\site-packages\\joblib\\parallel.py:1707\u001b[0m, in \u001b[0;36mParallel._retrieve\u001b[1;34m(self)\u001b[0m\n\u001b[0;32m   1702\u001b[0m \u001b[38;5;66;03m# If the next job is not ready for retrieval yet, we just wait for\u001b[39;00m\n\u001b[0;32m   1703\u001b[0m \u001b[38;5;66;03m# async callbacks to progress.\u001b[39;00m\n\u001b[0;32m   1704\u001b[0m \u001b[38;5;28;01mif\u001b[39;00m ((\u001b[38;5;28mlen\u001b[39m(\u001b[38;5;28mself\u001b[39m\u001b[38;5;241m.\u001b[39m_jobs) \u001b[38;5;241m==\u001b[39m \u001b[38;5;241m0\u001b[39m) \u001b[38;5;129;01mor\u001b[39;00m\n\u001b[0;32m   1705\u001b[0m     (\u001b[38;5;28mself\u001b[39m\u001b[38;5;241m.\u001b[39m_jobs[\u001b[38;5;241m0\u001b[39m]\u001b[38;5;241m.\u001b[39mget_status(\n\u001b[0;32m   1706\u001b[0m         timeout\u001b[38;5;241m=\u001b[39m\u001b[38;5;28mself\u001b[39m\u001b[38;5;241m.\u001b[39mtimeout) \u001b[38;5;241m==\u001b[39m TASK_PENDING)):\n\u001b[1;32m-> 1707\u001b[0m     \u001b[43mtime\u001b[49m\u001b[38;5;241;43m.\u001b[39;49m\u001b[43msleep\u001b[49m\u001b[43m(\u001b[49m\u001b[38;5;241;43m0.01\u001b[39;49m\u001b[43m)\u001b[49m\n\u001b[0;32m   1708\u001b[0m     \u001b[38;5;28;01mcontinue\u001b[39;00m\n\u001b[0;32m   1710\u001b[0m \u001b[38;5;66;03m# We need to be careful: the job list can be filling up as\u001b[39;00m\n\u001b[0;32m   1711\u001b[0m \u001b[38;5;66;03m# we empty it and Python list are not thread-safe by\u001b[39;00m\n\u001b[0;32m   1712\u001b[0m \u001b[38;5;66;03m# default hence the use of the lock\u001b[39;00m\n",
      "\u001b[1;31mKeyboardInterrupt\u001b[0m: "
     ]
    }
   ],
   "source": [
    "# Define SVM parameter grid\n",
    "param_grid_svm = {\n",
    "    'model__C': [0.1, 1, 10],\n",
    "    'model__gamma': [0.001, 0.01, 0.1],\n",
    "    'model__kernel': ['linear', 'rbf'],\n",
    "}\n",
    "\n",
    "# Define SVM model\n",
    "svm_model = SVC(probability=True, random_state=42)\n",
    "\n",
    "# Define pipeline\n",
    "pipeline_svm = Pipeline([('scaler', StandardScaler()), ('model', svm_model)])\n",
    "\n",
    "# Perform GridSearchCV\n",
    "print(\"Running GridSearchCV for SVM...\")\n",
    "grid_search_svm = GridSearchCV(pipeline_svm, param_grid_svm, cv=5, scoring='accuracy', n_jobs=-1)\n",
    "grid_search_svm.fit(X_train, y_train)\n",
    "\n",
    "# Store the best estimator\n",
    "best_svm = grid_search_svm.best_estimator_\n",
    "\n",
    "print(f\"Best parameters for SVM: {grid_search_svm.best_params_}\")\n",
    "print(f\"Best score for SVM: {grid_search_svm.best_score_}\")\n",
    "\n",
    "# Evaluate the model\n",
    "y_pred_svm = best_svm.predict(X_test)\n",
    "print(\"\\nConfusion Matrix:\")\n",
    "print(confusion_matrix(y_test, y_pred_svm))\n",
    "print(\"\\nClassification Report:\")\n",
    "print(classification_report(y_test, y_pred_svm))\n",
    "print(\"\\nAccuracy Score:\")\n",
    "print(accuracy_score(y_test, y_pred_svm))"
   ]
  },
  {
   "cell_type": "markdown",
   "id": "86a50c28-09ee-4d1a-a6c4-7efa896bf336",
   "metadata": {},
   "source": [
    "## Obtain test dataframe"
   ]
  },
  {
   "cell_type": "code",
   "execution_count": 46,
   "id": "c5523d9b-bb30-4d3d-a126-a09ca9a5dcd9",
   "metadata": {},
   "outputs": [],
   "source": [
    "# Define directories\n",
    "output_dir_test = \"featuresTestFromTest\""
   ]
  },
  {
   "cell_type": "code",
   "execution_count": 47,
   "id": "0c4394f2-d9a0-43be-b264-f30936ce0f8a",
   "metadata": {},
   "outputs": [],
   "source": [
    "# Load the final combined dataframe\n",
    "final_df_test = pd.read_csv(os.path.join(output_dir_test, \"combined_features_test.csv\"))"
   ]
  },
  {
   "cell_type": "code",
   "execution_count": 48,
   "id": "bcd09849-996c-4549-a124-003b51e7aeb9",
   "metadata": {},
   "outputs": [
    {
     "data": {
      "text/html": [
       "<div>\n",
       "<style scoped>\n",
       "    .dataframe tbody tr th:only-of-type {\n",
       "        vertical-align: middle;\n",
       "    }\n",
       "\n",
       "    .dataframe tbody tr th {\n",
       "        vertical-align: top;\n",
       "    }\n",
       "\n",
       "    .dataframe thead th {\n",
       "        text-align: right;\n",
       "    }\n",
       "</style>\n",
       "<table border=\"1\" class=\"dataframe\">\n",
       "  <thead>\n",
       "    <tr style=\"text-align: right;\">\n",
       "      <th></th>\n",
       "      <th>pixel_density</th>\n",
       "      <th>brightness</th>\n",
       "      <th>std_deviation</th>\n",
       "      <th>diagnosis</th>\n",
       "    </tr>\n",
       "  </thead>\n",
       "  <tbody>\n",
       "    <tr>\n",
       "      <th>0</th>\n",
       "      <td>0.684636</td>\n",
       "      <td>167.8932</td>\n",
       "      <td>72.417016</td>\n",
       "      <td>0</td>\n",
       "    </tr>\n",
       "    <tr>\n",
       "      <th>1</th>\n",
       "      <td>0.109632</td>\n",
       "      <td>223.3596</td>\n",
       "      <td>50.889707</td>\n",
       "      <td>0</td>\n",
       "    </tr>\n",
       "    <tr>\n",
       "      <th>2</th>\n",
       "      <td>0.260716</td>\n",
       "      <td>171.3472</td>\n",
       "      <td>54.498876</td>\n",
       "      <td>0</td>\n",
       "    </tr>\n",
       "    <tr>\n",
       "      <th>3</th>\n",
       "      <td>0.193887</td>\n",
       "      <td>212.4244</td>\n",
       "      <td>57.584104</td>\n",
       "      <td>0</td>\n",
       "    </tr>\n",
       "    <tr>\n",
       "      <th>4</th>\n",
       "      <td>0.404494</td>\n",
       "      <td>172.6876</td>\n",
       "      <td>58.721597</td>\n",
       "      <td>0</td>\n",
       "    </tr>\n",
       "  </tbody>\n",
       "</table>\n",
       "</div>"
      ],
      "text/plain": [
       "   pixel_density  brightness  std_deviation  diagnosis\n",
       "0       0.684636    167.8932      72.417016          0\n",
       "1       0.109632    223.3596      50.889707          0\n",
       "2       0.260716    171.3472      54.498876          0\n",
       "3       0.193887    212.4244      57.584104          0\n",
       "4       0.404494    172.6876      58.721597          0"
      ]
     },
     "execution_count": 48,
     "metadata": {},
     "output_type": "execute_result"
    }
   ],
   "source": [
    "final_df_test.head(5)"
   ]
  },
  {
   "cell_type": "markdown",
   "id": "13041385-6603-460d-be98-c451bb0d28c6",
   "metadata": {},
   "source": [
    "# Evaluate on test case"
   ]
  },
  {
   "cell_type": "markdown",
   "id": "2d095811-d010-405e-bf09-b2b6b2b3410a",
   "metadata": {},
   "source": [
    "## Logistic regression normal"
   ]
  },
  {
   "cell_type": "code",
   "execution_count": 49,
   "id": "217be181-b53c-4fd4-a4bd-306cbb46783a",
   "metadata": {},
   "outputs": [
    {
     "name": "stdout",
     "output_type": "stream",
     "text": [
      "\n",
      "Logistic Regression (Normal) Model Evaluation\n",
      "\n",
      "Confusion Matrix:\n",
      "[[12563 11298]\n",
      " [12563 11298]]\n",
      "\n",
      "Classification Report:\n",
      "              precision    recall  f1-score   support\n",
      "\n",
      "           0       0.50      0.53      0.51     23861\n",
      "           1       0.50      0.47      0.49     23861\n",
      "\n",
      "    accuracy                           0.50     47722\n",
      "   macro avg       0.50      0.50      0.50     47722\n",
      "weighted avg       0.50      0.50      0.50     47722\n",
      "\n",
      "\n",
      "Accuracy Score:\n",
      "0.5\n"
     ]
    }
   ],
   "source": [
    "# Prepare the data\n",
    "X_test = final_df_test[['pixel_density', 'brightness', 'std_deviation']]\n",
    "y_test = final_df_test['diagnosis']\n",
    "\n",
    "# Define Logistic Regression model\n",
    "logreg_model = LogisticRegression(random_state=42)\n",
    "\n",
    "# Define pipeline\n",
    "pipeline_logreg = Pipeline([('scaler', StandardScaler()), ('model', logreg_model)])\n",
    "\n",
    "# Train the model on the training data\n",
    "pipeline_logreg.fit(X, y)\n",
    "\n",
    "# Evaluate the model on the test data\n",
    "y_pred_logreg = pipeline_logreg.predict(X_test)\n",
    "print(\"\\nLogistic Regression (Normal) Model Evaluation\")\n",
    "print(\"\\nConfusion Matrix:\")\n",
    "print(confusion_matrix(y_test, y_pred_logreg))\n",
    "print(\"\\nClassification Report:\")\n",
    "print(classification_report(y_test, y_pred_logreg))\n",
    "print(\"\\nAccuracy Score:\")\n",
    "print(accuracy_score(y_test, y_pred_logreg))"
   ]
  },
  {
   "cell_type": "markdown",
   "id": "39a0582a-98ba-4231-bfc8-1c5562800316",
   "metadata": {},
   "source": [
    "## Logistic regression with hyperparams"
   ]
  },
  {
   "cell_type": "code",
   "execution_count": 50,
   "id": "1f828a3f-3be1-4d13-bcbe-3766987772f9",
   "metadata": {},
   "outputs": [
    {
     "name": "stdout",
     "output_type": "stream",
     "text": [
      "\n",
      "Logistic Regression (Hyperparameters) Model Evaluation\n",
      "\n",
      "Confusion Matrix:\n",
      "[[12317 11544]\n",
      " [12317 11544]]\n",
      "\n",
      "Classification Report:\n",
      "              precision    recall  f1-score   support\n",
      "\n",
      "           0       0.50      0.52      0.51     23861\n",
      "           1       0.50      0.48      0.49     23861\n",
      "\n",
      "    accuracy                           0.50     47722\n",
      "   macro avg       0.50      0.50      0.50     47722\n",
      "weighted avg       0.50      0.50      0.50     47722\n",
      "\n",
      "\n",
      "Accuracy Score:\n",
      "0.5\n"
     ]
    }
   ],
   "source": [
    "# Define Logistic Regression model with hyperparameters found previously\n",
    "logreg_model_hp = LogisticRegression(C=0.01, penalty='l1', solver='saga', random_state=42)\n",
    "\n",
    "# Define pipeline\n",
    "pipeline_logreg_hp = Pipeline([('scaler', StandardScaler()), ('model', logreg_model_hp)])\n",
    "\n",
    "# Train the model on the training data\n",
    "pipeline_logreg_hp.fit(X, y)\n",
    "\n",
    "# Evaluate the model on the test data\n",
    "y_pred_logreg_hp = pipeline_logreg_hp.predict(X_test)\n",
    "print(\"\\nLogistic Regression (Hyperparameters) Model Evaluation\")\n",
    "print(\"\\nConfusion Matrix:\")\n",
    "print(confusion_matrix(y_test, y_pred_logreg_hp))\n",
    "print(\"\\nClassification Report:\")\n",
    "print(classification_report(y_test, y_pred_logreg_hp))\n",
    "print(\"\\nAccuracy Score:\")\n",
    "print(accuracy_score(y_test, y_pred_logreg_hp))"
   ]
  },
  {
   "cell_type": "markdown",
   "id": "17969e1c-3bc0-487c-9cd2-eb5eca98853a",
   "metadata": {},
   "source": [
    "## Random forest normal"
   ]
  },
  {
   "cell_type": "code",
   "execution_count": 52,
   "id": "2ddc388c-6bf3-43af-a60c-68b47631b945",
   "metadata": {},
   "outputs": [
    {
     "name": "stdout",
     "output_type": "stream",
     "text": [
      "\n",
      "Random Forest (Normal) Model Evaluation\n",
      "\n",
      "Confusion Matrix:\n",
      "[[ 1982 21879]\n",
      " [ 1982 21879]]\n",
      "\n",
      "Classification Report:\n",
      "              precision    recall  f1-score   support\n",
      "\n",
      "           0       0.50      0.08      0.14     23861\n",
      "           1       0.50      0.92      0.65     23861\n",
      "\n",
      "    accuracy                           0.50     47722\n",
      "   macro avg       0.50      0.50      0.39     47722\n",
      "weighted avg       0.50      0.50      0.39     47722\n",
      "\n",
      "\n",
      "Accuracy Score:\n",
      "0.5\n"
     ]
    }
   ],
   "source": [
    "# Define Random Forest model\n",
    "rf_model = RandomForestClassifier(random_state=42)\n",
    "\n",
    "# Define pipeline\n",
    "pipeline_rf = Pipeline([('scaler', StandardScaler()), ('model', rf_model)])\n",
    "\n",
    "# Train the model on the training data\n",
    "pipeline_rf.fit(X, y)\n",
    "\n",
    "# Evaluate the model on the test data\n",
    "y_pred_rf = pipeline_rf.predict(X_test)\n",
    "print(\"\\nRandom Forest (Normal) Model Evaluation\")\n",
    "print(\"\\nConfusion Matrix:\")\n",
    "print(confusion_matrix(y_test, y_pred_rf))\n",
    "print(\"\\nClassification Report:\")\n",
    "print(classification_report(y_test, y_pred_rf))\n",
    "print(\"\\nAccuracy Score:\")\n",
    "print(accuracy_score(y_test, y_pred_rf))"
   ]
  },
  {
   "cell_type": "markdown",
   "id": "10780a82-aa43-4627-ac4d-35005b3b6db1",
   "metadata": {},
   "source": [
    "## Random forest wih hyperparams"
   ]
  },
  {
   "cell_type": "code",
   "execution_count": 53,
   "id": "05dfec20-1f85-47a8-b3ac-0482e77e824f",
   "metadata": {},
   "outputs": [
    {
     "name": "stdout",
     "output_type": "stream",
     "text": [
      "\n",
      "Random Forest (Hyperparameters) Model Evaluation\n",
      "\n",
      "Confusion Matrix:\n",
      "[[  737 23124]\n",
      " [  737 23124]]\n",
      "\n",
      "Classification Report:\n",
      "              precision    recall  f1-score   support\n",
      "\n",
      "           0       0.50      0.03      0.06     23861\n",
      "           1       0.50      0.97      0.66     23861\n",
      "\n",
      "    accuracy                           0.50     47722\n",
      "   macro avg       0.50      0.50      0.36     47722\n",
      "weighted avg       0.50      0.50      0.36     47722\n",
      "\n",
      "\n",
      "Accuracy Score:\n",
      "0.5\n"
     ]
    }
   ],
   "source": [
    "# Define Random Forest model with hyperparameters found previously\n",
    "rf_model_hp = RandomForestClassifier(n_estimators=200, max_depth=10, random_state=42)\n",
    "\n",
    "# Define pipeline\n",
    "pipeline_rf_hp = Pipeline([('scaler', StandardScaler()), ('model', rf_model_hp)])\n",
    "\n",
    "# Train the model on the training data\n",
    "pipeline_rf_hp.fit(X, y)\n",
    "\n",
    "# Evaluate the model on the test data\n",
    "y_pred_rf_hp = pipeline_rf_hp.predict(X_test)\n",
    "print(\"\\nRandom Forest (Hyperparameters) Model Evaluation\")\n",
    "print(\"\\nConfusion Matrix:\")\n",
    "print(confusion_matrix(y_test, y_pred_rf_hp))\n",
    "print(\"\\nClassification Report:\")\n",
    "print(classification_report(y_test, y_pred_rf_hp))\n",
    "print(\"\\nAccuracy Score:\")\n",
    "print(accuracy_score(y_test, y_pred_rf_hp))"
   ]
  },
  {
   "cell_type": "markdown",
   "id": "9fb6e461-7bfb-4973-aee4-3eb1cdfc3d81",
   "metadata": {},
   "source": [
    "## Gradient boost"
   ]
  },
  {
   "cell_type": "code",
   "execution_count": 54,
   "id": "861592a4-a4ac-4dc4-a982-ad582af550de",
   "metadata": {},
   "outputs": [
    {
     "name": "stdout",
     "output_type": "stream",
     "text": [
      "\n",
      "Gradient Boosting (Normal) Model Evaluation\n",
      "\n",
      "Confusion Matrix:\n",
      "[[ 2029 21832]\n",
      " [ 2029 21832]]\n",
      "\n",
      "Classification Report:\n",
      "              precision    recall  f1-score   support\n",
      "\n",
      "           0       0.50      0.09      0.15     23861\n",
      "           1       0.50      0.91      0.65     23861\n",
      "\n",
      "    accuracy                           0.50     47722\n",
      "   macro avg       0.50      0.50      0.40     47722\n",
      "weighted avg       0.50      0.50      0.40     47722\n",
      "\n",
      "\n",
      "Accuracy Score:\n",
      "0.5\n"
     ]
    }
   ],
   "source": [
    "# Define Gradient Boosting model\n",
    "gbm_model = GradientBoostingClassifier(random_state=42)\n",
    "\n",
    "# Define pipeline\n",
    "pipeline_gbm = Pipeline([('scaler', StandardScaler()), ('model', gbm_model)])\n",
    "\n",
    "# Train the model on the training data\n",
    "pipeline_gbm.fit(X, y)\n",
    "\n",
    "# Evaluate the model on the test data\n",
    "y_pred_gbm = pipeline_gbm.predict(X_test)\n",
    "print(\"\\nGradient Boosting (Normal) Model Evaluation\")\n",
    "print(\"\\nConfusion Matrix:\")\n",
    "print(confusion_matrix(y_test, y_pred_gbm))\n",
    "print(\"\\nClassification Report:\")\n",
    "print(classification_report(y_test, y_pred_gbm))\n",
    "print(\"\\nAccuracy Score:\")\n",
    "print(accuracy_score(y_test, y_pred_gbm))"
   ]
  },
  {
   "cell_type": "markdown",
   "id": "e5d64994-ac10-478a-94c8-05bdaa0ecada",
   "metadata": {},
   "source": [
    "## Gradient boost with hyperparams"
   ]
  },
  {
   "cell_type": "code",
   "execution_count": 55,
   "id": "8caf1e15-fde1-4c25-9303-469236dce784",
   "metadata": {},
   "outputs": [
    {
     "name": "stdout",
     "output_type": "stream",
     "text": [
      "\n",
      "Gradient Boosting (Hyperparameters) Model Evaluation\n",
      "\n",
      "Confusion Matrix:\n",
      "[[ 1956 21905]\n",
      " [ 1956 21905]]\n",
      "\n",
      "Classification Report:\n",
      "              precision    recall  f1-score   support\n",
      "\n",
      "           0       0.50      0.08      0.14     23861\n",
      "           1       0.50      0.92      0.65     23861\n",
      "\n",
      "    accuracy                           0.50     47722\n",
      "   macro avg       0.50      0.50      0.39     47722\n",
      "weighted avg       0.50      0.50      0.39     47722\n",
      "\n",
      "\n",
      "Accuracy Score:\n",
      "0.5\n"
     ]
    }
   ],
   "source": [
    "# Define Gradient Boosting model with hyperparameters found previously\n",
    "gbm_model_hp = GradientBoostingClassifier(n_estimators=150, max_depth=3, learning_rate=0.1, random_state=42)\n",
    "\n",
    "# Define pipeline\n",
    "pipeline_gbm_hp = Pipeline([('scaler', StandardScaler()), ('model', gbm_model_hp)])\n",
    "\n",
    "# Train the model on the training data\n",
    "pipeline_gbm_hp.fit(X, y)\n",
    "\n",
    "# Evaluate the model on the test data\n",
    "y_pred_gbm_hp = pipeline_gbm_hp.predict(X_test)\n",
    "print(\"\\nGradient Boosting (Hyperparameters) Model Evaluation\")\n",
    "print(\"\\nConfusion Matrix:\")\n",
    "print(confusion_matrix(y_test, y_pred_gbm_hp))\n",
    "print(\"\\nClassification Report:\")\n",
    "print(classification_report(y_test, y_pred_gbm_hp))\n",
    "print(\"\\nAccuracy Score:\")\n",
    "print(accuracy_score(y_test, y_pred_gbm_hp))"
   ]
  },
  {
   "cell_type": "code",
   "execution_count": null,
   "id": "8fb6e8c2-a112-4aa9-add2-425c85a83ad3",
   "metadata": {},
   "outputs": [],
   "source": [
    "# Define SVM model\n",
    "svm_model = SVC(probability=True, random_state=42)\n",
    "\n",
    "# Define pipeline\n",
    "pipeline_svm = Pipeline([('scaler', StandardScaler()), ('model', svm_model)])\n",
    "\n",
    "# Train the model on the training data\n",
    "pipeline_svm.fit(X, y)\n",
    "\n",
    "# Evaluate the model on the test data\n",
    "y_pred_svm = pipeline_svm.predict(X_test)\n",
    "print(\"\\nSupport Vector Machine (Normal) Model Evaluation\")\n",
    "print(\"\\nConfusion Matrix:\")\n",
    "print(confusion_matrix(y_test, y_pred_svm))\n",
    "print(\"\\nClassification Report:\")\n",
    "print(classification_report(y_test, y_pred_svm))\n",
    "print(\"\\nAccuracy Score:\")\n",
    "print(accuracy_score(y_test, y_pred_svm))"
   ]
  },
  {
   "cell_type": "code",
   "execution_count": null,
   "id": "2c451f5b-880b-46b2-8792-0fabe62f5dd4",
   "metadata": {},
   "outputs": [],
   "source": []
  }
 ],
 "metadata": {
  "kernelspec": {
   "display_name": "Python 3 (ipykernel)",
   "language": "python",
   "name": "python3"
  },
  "language_info": {
   "codemirror_mode": {
    "name": "ipython",
    "version": 3
   },
   "file_extension": ".py",
   "mimetype": "text/x-python",
   "name": "python",
   "nbconvert_exporter": "python",
   "pygments_lexer": "ipython3",
   "version": "3.12.0"
  }
 },
 "nbformat": 4,
 "nbformat_minor": 5
}
