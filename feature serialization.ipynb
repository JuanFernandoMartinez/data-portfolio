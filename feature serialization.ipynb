{
 "cells": [
  {
   "cell_type": "markdown",
   "id": "ea584e40-6ea3-4c4b-adf2-8e059ce0b684",
   "metadata": {},
   "source": [
    "# Texture and hyperchromatic areas feature exploration"
   ]
  },
  {
   "cell_type": "code",
   "execution_count": 1,
   "id": "8ff7fcf8-68d5-4d3d-b406-ed06cfe133f0",
   "metadata": {},
   "outputs": [],
   "source": [
    "import os\n",
    "import cv2\n",
    "import random\n",
    "import numpy as np\n",
    "import matplotlib.pyplot as plt\n",
    "from skimage.segmentation import flood_fill\n",
    "from skimage import io, color, exposure, img_as_ubyte\n",
    "from skimage.feature import graycomatrix, graycoprops\n",
    "from sklearn.cluster import KMeans, MeanShift"
   ]
  },
  {
   "cell_type": "code",
   "execution_count": 2,
   "id": "69d524a9",
   "metadata": {},
   "outputs": [],
   "source": [
    "#Uncomment to install dependecy\n",
    "#!pip install opencv-python "
   ]
  },
  {
   "cell_type": "code",
   "execution_count": 3,
   "id": "2a19513d",
   "metadata": {},
   "outputs": [],
   "source": [
    "#pip install scikit-image"
   ]
  },
  {
   "cell_type": "markdown",
   "id": "5cd60bf0-b27e-4e09-8be6-71c09527f0d9",
   "metadata": {},
   "source": [
    "### Declare variables and lists"
   ]
  },
  {
   "cell_type": "code",
   "execution_count": 3,
   "id": "b6f73dee-0f2c-4822-84f1-5abccb8738f9",
   "metadata": {
    "scrolled": true
   },
   "outputs": [],
   "source": [
    "# Images root directorie\n",
    "data_dir = \"cancerSeno_bw/train\"\n",
    "\n",
    "# Class list\n",
    "classes = [\"sano\", \"cancer\"]\n",
    "\n",
    "# Define angles and distanxes for GLCM (Gray-Level Co-Occurrence Matrix)\n",
    "angles = [0]\n",
    "distances = [1]\n",
    "\n",
    "# Define normalization threshold\n",
    "treshold = 120\n",
    "\n",
    "# Define max number of clusters for segmentation\n",
    "max_clusters = 5\n",
    "\n",
    "# Initialize lists\n",
    "# Store texture and density of pixels characteristics\n",
    "glcm_features = []\n",
    "densidades_pixeles_oscuros = []\n",
    "num_cúmulos = []\n",
    "\n",
    "# Store coordinates of origins in clusters\n",
    "cluster_seeds = []\n",
    "\n",
    "# Store loaded images\n",
    "loaded_images = []"
   ]
  },
  {
   "cell_type": "markdown",
   "id": "b41c3021-43b4-4518-81ab-cab52b88f462",
   "metadata": {},
   "source": [
    "### Obtain images from directories"
   ]
  },
  {
   "cell_type": "code",
   "execution_count": 4,
   "id": "90528982-73ba-45ca-85fe-f7006a5ee05b",
   "metadata": {},
   "outputs": [
    {
     "name": "stderr",
     "output_type": "stream",
     "text": [
      "C:\\Users\\Lenovo\\anaconda3\\envs\\entorno3.7\\lib\\site-packages\\ipykernel_launcher.py:20: VisibleDeprecationWarning: Creating an ndarray from ragged nested sequences (which is a list-or-tuple of lists-or-tuples-or ndarrays with different lengths or shapes) is deprecated. If you meant to do this, you must specify 'dtype=object' when creating the ndarray.\n"
     ]
    },
    {
     "name": "stdout",
     "output_type": "stream",
     "text": [
      "185917\n",
      "73554\n"
     ]
    },
    {
     "name": "stderr",
     "output_type": "stream",
     "text": [
      "C:\\Users\\Lenovo\\anaconda3\\envs\\entorno3.7\\lib\\site-packages\\ipykernel_launcher.py:21: VisibleDeprecationWarning: Creating an ndarray from ragged nested sequences (which is a list-or-tuple of lists-or-tuples-or ndarrays with different lengths or shapes) is deprecated. If you meant to do this, you must specify 'dtype=object' when creating the ndarray.\n"
     ]
    }
   ],
   "source": [
    "# Iterate over classes\n",
    "\n",
    "\n",
    "\n",
    "\n",
    "\n",
    "health_dir = os.path.join(data_dir, classes[0])\n",
    "ill_dir = os.path.join(data_dir, classes[1])\n",
    "# Obtain list of image files from directory\n",
    "health_file_list = os.listdir(health_dir)\n",
    "ill_file_list = os.listdir(ill_dir)\n",
    "    \n",
    "# Store the first 3 images from current class\n",
    "health_images_source = [os.path.join(health_dir, image_name) for image_name in health_file_list]\n",
    "ill_images_source = [os.path.join(ill_dir, image_name) for image_name in ill_file_list]\n",
    "    \n",
    "# Add image paths to the loaded-images list\n",
    "#loaded_images.extend(selected_images)\n",
    "\n",
    "health_images = np.array([np.array(io.imread(image_path)) for image_path in health_images_source])\n",
    "ill_images = np.array([np.array(io.imread(image_path)) for image_path in ill_images_source])\n",
    "\n",
    "\n",
    "print(len(health_images))\n",
    "print(len(ill_images))"
   ]
  },
  {
   "cell_type": "code",
   "execution_count": 7,
   "id": "abc1b1c1",
   "metadata": {},
   "outputs": [
    {
     "data": {
      "text/plain": [
       "array([array([[187, 180, 194, ..., 229, 202, 224],\n",
       "              [170, 163, 177, ..., 191, 199, 221],\n",
       "              [200, 183, 159, ..., 199, 169, 188],\n",
       "              ...,\n",
       "              [172, 161, 160, ..., 151, 167, 154],\n",
       "              [172, 160, 153, ..., 104, 140, 142],\n",
       "              [157, 164, 184, ..., 108, 185, 194]], dtype=uint8),\n",
       "       array([[176, 181, 193, ..., 179, 214, 208],\n",
       "              [177, 170, 163, ..., 171, 175, 162],\n",
       "              [154, 171, 186, ..., 165, 152, 151],\n",
       "              ...,\n",
       "              [239, 248, 247, ..., 242, 246, 237],\n",
       "              [245, 242, 244, ..., 247, 245, 247],\n",
       "              [214, 246, 247, ..., 246, 249, 247]], dtype=uint8),\n",
       "       array([[246, 247, 248, ..., 249, 247, 246],\n",
       "              [247, 246, 249, ..., 245, 247, 249],\n",
       "              [235, 231, 239, ..., 246, 247, 245],\n",
       "              ...,\n",
       "              [248, 248, 248, ..., 243, 232, 181],\n",
       "              [248, 248, 248, ..., 245, 207, 133],\n",
       "              [248, 248, 248, ..., 248, 220, 146]], dtype=uint8), ...,\n",
       "       array([[241, 240, 240, ..., 244, 238, 216],\n",
       "              [240, 241, 241, ..., 242, 245, 240],\n",
       "              [241, 239, 240, ..., 241, 242, 244],\n",
       "              ...,\n",
       "              [243, 241, 242, ..., 242, 242, 243],\n",
       "              [242, 242, 242, ..., 242, 242, 242],\n",
       "              [242, 242, 242, ..., 242, 242, 242]], dtype=uint8),\n",
       "       array([[235, 234, 237, ..., 243, 238, 243],\n",
       "              [234, 237, 237, ..., 242, 242, 240],\n",
       "              [236, 237, 238, ..., 242, 243, 241],\n",
       "              ...,\n",
       "              [151, 143, 133, ..., 229, 243, 240],\n",
       "              [148, 148, 169, ..., 244, 241, 241],\n",
       "              [170, 178, 178, ..., 242, 242, 243]], dtype=uint8),\n",
       "       array([[194, 178, 132, ..., 241, 244, 240],\n",
       "              [123, 136, 160, ..., 242, 241, 242],\n",
       "              [151, 188, 170, ..., 242, 242, 242],\n",
       "              ...,\n",
       "              [243, 240, 243, ..., 242, 242, 242],\n",
       "              [242, 244, 240, ..., 242, 242, 242],\n",
       "              [243, 237, 229, ..., 242, 242, 242]], dtype=uint8)],\n",
       "      dtype=object)"
      ]
     },
     "execution_count": 7,
     "metadata": {},
     "output_type": "execute_result"
    }
   ],
   "source": [
    "health_images"
   ]
  },
  {
   "cell_type": "code",
   "execution_count": 9,
   "id": "bb8b7eb7",
   "metadata": {},
   "outputs": [],
   "source": [
    "\n",
    "import pickle\n",
    "with open('gray_health_images_vector.pickle','wb') as file:\n",
    "    pickle.dump(health_images, file)"
   ]
  },
  {
   "cell_type": "code",
   "execution_count": 10,
   "id": "19983a3d",
   "metadata": {},
   "outputs": [
    {
     "data": {
      "text/plain": [
       "array([array([[253, 252, 252, ..., 251, 251, 251],\n",
       "              [253, 252, 252, ..., 251, 251, 251],\n",
       "              [252, 252, 252, ..., 251, 251, 251],\n",
       "              ...,\n",
       "              [252, 252, 252, ...,  85,  72, 102],\n",
       "              [252, 252, 251, ...,  87,  73,  69],\n",
       "              [252, 252, 251, ..., 109, 106, 117]], dtype=uint8),\n",
       "       array([[252, 252, 252, ..., 250, 196,  67],\n",
       "              [252, 252, 252, ..., 248, 117, 128],\n",
       "              [252, 252, 252, ..., 120, 129, 102],\n",
       "              ...,\n",
       "              [251, 251, 251, ..., 112, 116,  76],\n",
       "              [251, 251, 251, ...,  66, 100, 161],\n",
       "              [251, 251, 251, ..., 114, 242, 248]], dtype=uint8),\n",
       "       array([[251, 251, 251, ..., 205, 249, 250],\n",
       "              [251, 251, 250, ..., 233, 248, 249],\n",
       "              [251, 251, 251, ..., 187, 249, 249],\n",
       "              ...,\n",
       "              [107,  99, 132, ..., 126, 210, 247],\n",
       "              [ 72,  64, 125, ..., 107,  83, 123],\n",
       "              [ 85,  91,  89, ..., 142, 124,  95]], dtype=uint8), ...,\n",
       "       array([[103, 141, 139, ..., 240, 217, 227],\n",
       "              [134, 142, 143, ..., 239, 239, 228],\n",
       "              [143, 148, 137, ..., 238, 240, 239],\n",
       "              ...,\n",
       "              [238, 237, 239, ..., 239, 240, 238],\n",
       "              [239, 237, 240, ..., 240, 239, 239],\n",
       "              [240, 240, 237, ..., 239, 240, 240]], dtype=uint8),\n",
       "       array([[133, 137, 133, ..., 224, 236, 240],\n",
       "              [134, 136, 130, ..., 149, 225, 237],\n",
       "              [133, 139, 134, ..., 140, 143, 141],\n",
       "              ...,\n",
       "              [199, 222, 224, ...,  87,  91,  92],\n",
       "              [202, 236, 237, ..., 103, 101,  92],\n",
       "              [232, 220, 235, ..., 184, 102, 122]], dtype=uint8),\n",
       "       array([[237, 235, 222, ...,  88, 140, 129],\n",
       "              [235, 236, 237, ..., 187, 188, 145],\n",
       "              [236, 236, 237, ..., 225, 173, 158],\n",
       "              ...,\n",
       "              [139, 132, 110, ..., 152, 121, 147],\n",
       "              [125, 115, 109, ..., 123, 120, 165],\n",
       "              [132, 131, 150, ..., 202, 117, 175]], dtype=uint8)],\n",
       "      dtype=object)"
      ]
     },
     "execution_count": 10,
     "metadata": {},
     "output_type": "execute_result"
    }
   ],
   "source": [
    "ill_images"
   ]
  },
  {
   "cell_type": "code",
   "execution_count": 11,
   "id": "30e62a84",
   "metadata": {},
   "outputs": [],
   "source": [
    "with open('gray_ill_images_vector.pickle','wb') as file:\n",
    "    pickle.dump(ill_images, file)"
   ]
  }
 ],
 "metadata": {
  "kernelspec": {
   "display_name": "Python 3 (ipykernel)",
   "language": "python",
   "name": "python3"
  },
  "language_info": {
   "codemirror_mode": {
    "name": "ipython",
    "version": 3
   },
   "file_extension": ".py",
   "mimetype": "text/x-python",
   "name": "python",
   "nbconvert_exporter": "python",
   "pygments_lexer": "ipython3",
   "version": "3.7.16"
  }
 },
 "nbformat": 4,
 "nbformat_minor": 5
}
