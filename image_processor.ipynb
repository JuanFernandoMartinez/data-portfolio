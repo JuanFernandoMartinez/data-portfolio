{
 "cells": [
  {
   "cell_type": "markdown",
   "id": "a4badcc1-f8fe-4aba-8dba-efb08629e9f5",
   "metadata": {},
   "source": [
    "Extract and organize sample images"
   ]
  },
  {
   "cell_type": "code",
   "execution_count": 1,
   "id": "81fb8521-3d70-4aab-9f38-cfee08f21988",
   "metadata": {},
   "outputs": [],
   "source": [
    "import os\n",
    "import shutil\n",
    "import random\n",
    "from glob import glob"
   ]
  },
  {
   "cell_type": "code",
   "execution_count": 2,
   "id": "af86a7b1-4019-4b4d-aada-eacba2c15319",
   "metadata": {},
   "outputs": [],
   "source": [
    "# Origin and destinty directories\n",
    "source_dir = \"breast-histopathology-images\"\n",
    "destination_dir = \"cancerSeno\"\n",
    "\n",
    "# Complete routes for origin and destination\n",
    "source_dir = os.path.join(os.getcwd(), source_dir)\n",
    "destination_dir = os.path.join(os.getcwd(), destination_dir)"
   ]
  },
  {
   "cell_type": "code",
   "execution_count": 3,
   "id": "06470d87-c502-4fea-a4bf-b3b80afbe9d6",
   "metadata": {},
   "outputs": [],
   "source": [
    "# Create train and test directories within cancerSeno\n",
    "train_dir = os.path.join(destination_dir, \"train\")\n",
    "test_dir = os.path.join(destination_dir, \"test\")\n",
    "os.makedirs(train_dir, exist_ok=True)\n",
    "os.makedirs(test_dir, exist_ok=True)\n",
    "\n",
    "# Obtain list of images forlders\n",
    "image_folders = glob(os.path.join(source_dir, \"*/*\"))\n",
    "\n",
    "# List to contain all images\n",
    "all_images = []\n",
    "\n",
    "# Go over all folders extracting the images\n",
    "for folder in image_folders:\n",
    "    images = glob(os.path.join(folder, \"*.png\"))  # Cambia \"*.png\" según la extensión de tus imágenes\n",
    "    all_images.extend(images)\n",
    "\n",
    "# Mix the images\n",
    "random.shuffle(all_images)"
   ]
  },
  {
   "cell_type": "code",
   "execution_count": 4,
   "id": "696e53ed-ca08-4d7e-aa20-d56ca9ec9dbb",
   "metadata": {},
   "outputs": [
    {
     "data": {
      "text/plain": [
       "277524"
      ]
     },
     "execution_count": 4,
     "metadata": {},
     "output_type": "execute_result"
    }
   ],
   "source": [
    "len(all_images)"
   ]
  },
  {
   "cell_type": "code",
   "execution_count": 5,
   "id": "51695d5d-772d-48fb-b39e-7624c7265de1",
   "metadata": {},
   "outputs": [],
   "source": [
    "# Calculate amount of images for train and test\n",
    "train_split = int(0.7 * len(all_images))\n",
    "\n",
    "# Divide images for train and test\n",
    "train_images = all_images[:train_split]\n",
    "test_images = all_images[train_split:]\n",
    "\n",
    "# Funciton for copying images between the corresponding directories\n",
    "def copy_images(images, target_dir):\n",
    "    for img_path in images:\n",
    "        img_name = os.path.basename(img_path)\n",
    "        category = \"cancer\" if \"_class1\" in img_name else \"sano\"\n",
    "        category_dir = os.path.join(target_dir, category)\n",
    "        os.makedirs(category_dir, exist_ok=True)\n",
    "        shutil.copy(img_path, os.path.join(category_dir, img_name))\n",
    "\n",
    "# Copy train images\n",
    "copy_images(train_images, train_dir)\n",
    "\n",
    "# Copy test images\n",
    "copy_images(test_images, test_dir)\n"
   ]
  },
  {
   "cell_type": "code",
   "execution_count": 6,
   "id": "7aca33f8-9d15-44f9-bc0f-765f750c311b",
   "metadata": {},
   "outputs": [
    {
     "name": "stdout",
     "output_type": "stream",
     "text": [
      "1) Total de imágenes en destination (cancerSeno): 342729\n",
      "   Total de imágenes en source: 0\n",
      "2) Total de imágenes en train: 259471\n",
      "   Total de imágenes en test: 83258\n",
      "3) Total de imágenes en la carpeta 'cancer' dentro de train: 73554\n",
      "   Total de imágenes en la carpeta 'sano' dentro de train: 185917\n",
      "   Total de imágenes en la carpeta 'cancer' dentro de test: 23745\n",
      "   Total de imágenes en la carpeta 'sano' dentro de test: 59513\n"
     ]
    }
   ],
   "source": [
    "# Directories\n",
    "source_dir = \"breast-histopathology-images\"\n",
    "destination_dir = \"cancerSeno\"\n",
    "train_dir = os.path.join(destination_dir, \"train\")\n",
    "test_dir = os.path.join(destination_dir, \"test\")\n",
    "\n",
    "# Count images in source and destination\n",
    "source_images = len(glob(os.path.join(source_dir, \"*/*.png\")))\n",
    "destination_images = len(glob(os.path.join(train_dir, \"*/*.png\"))) + len(glob(os.path.join(test_dir, \"*/*.png\")))\n",
    "\n",
    "# Count images within train and test\n",
    "train_cancer_images = len(glob(os.path.join(train_dir, \"cancer/*.png\")))\n",
    "train_sano_images = len(glob(os.path.join(train_dir, \"sano/*.png\")))\n",
    "test_cancer_images = len(glob(os.path.join(test_dir, \"cancer/*.png\")))\n",
    "test_sano_images = len(glob(os.path.join(test_dir, \"sano/*.png\")))\n",
    "\n",
    "# Print results\n",
    "print(\"1) Total de imágenes en destination (cancerSeno):\", destination_images)\n",
    "print(\"   Total de imágenes en source:\", source_images)\n",
    "print(\"2) Total de imágenes en train:\", train_cancer_images + train_sano_images)\n",
    "print(\"   Total de imágenes en test:\", test_cancer_images + test_sano_images)\n",
    "print(\"3) Total de imágenes en la carpeta 'cancer' dentro de train:\", train_cancer_images)\n",
    "print(\"   Total de imágenes en la carpeta 'sano' dentro de train:\", train_sano_images)\n",
    "print(\"   Total de imágenes en la carpeta 'cancer' dentro de test:\", test_cancer_images)\n",
    "print(\"   Total de imágenes en la carpeta 'sano' dentro de test:\", test_sano_images)\n"
   ]
  },
  {
   "cell_type": "code",
   "execution_count": null,
   "id": "ef13383f-dae4-4bbb-bff4-e7bd497adb48",
   "metadata": {},
   "outputs": [],
   "source": []
  }
 ],
 "metadata": {
  "kernelspec": {
   "display_name": "Python 3 (ipykernel)",
   "language": "python",
   "name": "python3"
  },
  "language_info": {
   "codemirror_mode": {
    "name": "ipython",
    "version": 3
   },
   "file_extension": ".py",
   "mimetype": "text/x-python",
   "name": "python",
   "nbconvert_exporter": "python",
   "pygments_lexer": "ipython3",
   "version": "3.7.16"
  }
 },
 "nbformat": 4,
 "nbformat_minor": 5
}
