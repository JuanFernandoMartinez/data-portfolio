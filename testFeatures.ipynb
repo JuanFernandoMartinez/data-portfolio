{
 "cells": [
  {
   "cell_type": "code",
   "execution_count": 1,
   "id": "014a9b21-bdc9-4d92-9162-41a643afc5df",
   "metadata": {},
   "outputs": [],
   "source": [
    "import pandas as pd\n",
    "import os\n",
    "import cv2\n",
    "import random\n",
    "import numpy as np\n",
    "import matplotlib.pyplot as plt\n",
    "from skimage.segmentation import flood_fill\n",
    "from skimage import io, color, exposure, img_as_ubyte\n",
    "from skimage.feature import graycomatrix, graycoprops\n",
    "from sklearn.cluster import KMeans, MeanShift\n",
    "from skimage.measure import label, regionprops\n",
    "from scipy.stats import skew"
   ]
  },
  {
   "cell_type": "code",
   "execution_count": 12,
   "id": "a5181961-6d0b-40c2-bdfa-7d0e6c22674e",
   "metadata": {},
   "outputs": [],
   "source": [
    "# Images root directorie\n",
    "data_dir = \"cancerSeno_bw/test\"\n",
    "output_dir = \"featuresTestFromTest\"\n",
    "\n",
    "# Class list\n",
    "classes = [\"sano\", \"cancer\"]\n",
    "\n",
    "# Create output directories\n",
    "os.makedirs(os.path.join(output_dir, \"sano\"), exist_ok=True)\n",
    "os.makedirs(os.path.join(output_dir, \"cancer\"), exist_ok=True)\n",
    "\n",
    "# Define angles and distanxes for GLCM (Gray-Level Co-Occurrence Matrix)\n",
    "angles = [0]\n",
    "distances = [1]\n",
    "\n",
    "# Define normalization threshold\n",
    "treshold = 120\n",
    "\n",
    "# Define max number of clusters for segmentation\n",
    "max_clusters = 5\n",
    "\n",
    "# Initialize lists\n",
    "# Store texture and density of pixels characteristics\n",
    "glcm_features = []\n",
    "densidades_pixeles_oscuros = []\n",
    "num_cúmulos = []\n",
    "\n",
    "# Store coordinates of origins in clusters\n",
    "cluster_seeds = []\n",
    "\n",
    "# Store loaded images\n",
    "loaded_images = []"
   ]
  },
  {
   "cell_type": "code",
   "execution_count": 13,
   "id": "e0322cb9-0603-4303-bc2d-cfb8f18db16b",
   "metadata": {},
   "outputs": [],
   "source": [
    "# Accumulate histograms, GLCM features, and dark pixel densities\n",
    "histograms = {cls: [] for cls in classes}\n",
    "glcm_features_all = {cls: [] for cls in classes}\n",
    "dark_pixel_densities = {cls: [] for cls in classes}\n",
    "brightness_values = {cls: [] for cls in classes}\n",
    "std_deviation_values = {cls: [] for cls in classes}\n",
    "skewness_values = {cls: [] for cls in classes}"
   ]
  },
  {
   "cell_type": "code",
   "execution_count": 14,
   "id": "75b4351e-a3ca-4c4d-ad66-2f12ee31553c",
   "metadata": {},
   "outputs": [],
   "source": [
    "# Create output directories\n",
    "for cls in classes:\n",
    "    class_output_dir = os.path.join(output_dir, cls)\n",
    "    os.makedirs(os.path.join(class_output_dir, \"histogram\"), exist_ok=True)\n",
    "    os.makedirs(os.path.join(class_output_dir, \"glcmMatrix\"), exist_ok=True)\n",
    "    os.makedirs(os.path.join(class_output_dir, \"pixelDensity\"), exist_ok=True)\n",
    "    os.makedirs(os.path.join(class_output_dir, \"brightness\"), exist_ok=True)\n",
    "    os.makedirs(os.path.join(class_output_dir, \"stdDeviation\"), exist_ok=True)\n",
    "    os.makedirs(os.path.join(class_output_dir, \"skewness\"), exist_ok=True)\n",
    "    os.makedirs(class_output_dir, exist_ok=True)"
   ]
  },
  {
   "cell_type": "markdown",
   "id": "8e988ed4-a9f2-4ea1-9eb9-88ec384f3bf5",
   "metadata": {},
   "source": [
    "## Get images from directory"
   ]
  },
  {
   "cell_type": "code",
   "execution_count": 15,
   "id": "93cb10b1-8555-4ffe-9b08-a048a4fe48b0",
   "metadata": {},
   "outputs": [],
   "source": [
    "#Get all images from a directory\n",
    "def get_images(class_dir):\n",
    "    file_list = os.listdir(class_dir)\n",
    "    images = [os.path.join(class_dir, image_name) for image_name in file_list]\n",
    "    return images"
   ]
  },
  {
   "cell_type": "code",
   "execution_count": 16,
   "id": "6477a53c-18c5-430e-9a98-c8415fbd3c00",
   "metadata": {},
   "outputs": [
    {
     "name": "stdout",
     "output_type": "stream",
     "text": [
      "Images loaded\n"
     ]
    }
   ],
   "source": [
    "# Iterate over classes\n",
    "for cls in classes:\n",
    "    # Obtain route from current directory\n",
    "    class_dir = os.path.join(data_dir, cls)\n",
    "    images = get_images(class_dir)\n",
    "\n",
    "    # Add image paths to the loaded-images list\n",
    "    loaded_images.extend(images)\n",
    "print(\"Images loaded\")"
   ]
  },
  {
   "cell_type": "code",
   "execution_count": 17,
   "id": "b8a1b154-fd18-4512-a1a6-7b87b5662e77",
   "metadata": {},
   "outputs": [
    {
     "data": {
      "text/plain": [
       "83258"
      ]
     },
     "execution_count": 17,
     "metadata": {},
     "output_type": "execute_result"
    }
   ],
   "source": [
    "len(loaded_images)"
   ]
  },
  {
   "cell_type": "markdown",
   "id": "4520c160-dfb1-48ae-9ea5-260224a6edb3",
   "metadata": {},
   "source": [
    "## Save data to csv"
   ]
  },
  {
   "cell_type": "code",
   "execution_count": 11,
   "id": "8b4511e0-473a-4ba9-9f1c-03ab617a6f3f",
   "metadata": {},
   "outputs": [],
   "source": [
    "def save_to_csv(data_list, output_path, column_name):\n",
    "    \"\"\"Save the data list to a CSV file.\"\"\"\n",
    "    df = pd.DataFrame(data_list, columns=[column_name])\n",
    "    df.to_csv(output_path, index=False)"
   ]
  },
  {
   "cell_type": "markdown",
   "id": "67f6e8d6-9d30-467f-9e2f-5db056b72b9c",
   "metadata": {},
   "source": [
    "## Calculate pixel density"
   ]
  },
  {
   "cell_type": "code",
   "execution_count": 9,
   "id": "fe7c70b0-77d5-4f15-910f-af025b7b61cb",
   "metadata": {},
   "outputs": [],
   "source": [
    "def calculate_dark_pixel_density(image, treshold):\n",
    "    \"\"\"Calculate the density of dark pixels in hyperchromatic areas of an image.\"\"\"\n",
    "    _, binary_image = cv2.threshold(image, treshold, 255, cv2.THRESH_BINARY)\n",
    "    dark_pixels_count = np.sum(binary_image == 0)\n",
    "    total_area = np.sum(binary_image == 255)\n",
    "    dark_pixels_density = dark_pixels_count / total_area if total_area > 0 else 0\n",
    "    return dark_pixels_density"
   ]
  },
  {
   "cell_type": "code",
   "execution_count": 10,
   "id": "0c76f708-0d1b-4ceb-8584-e40b53f32723",
   "metadata": {},
   "outputs": [],
   "source": [
    "def save_pixel_density_to_csv(pixel_densities, output_path):\n",
    "    \"\"\"Save the pixel densities list to a CSV file.\"\"\"\n",
    "    df = pd.DataFrame(pixel_densities, columns=['pixel_density'])\n",
    "    df.to_csv(output_path, index=False)"
   ]
  },
  {
   "cell_type": "code",
   "execution_count": 18,
   "id": "7e744063-b933-4b0c-9754-40aed2928bf6",
   "metadata": {},
   "outputs": [
    {
     "name": "stdout",
     "output_type": "stream",
     "text": [
      "first class generated\n",
      "first class generated\n",
      "second class generated\n",
      "pixel densities saved\n"
     ]
    }
   ],
   "source": [
    "for cls in classes:\n",
    "    for image_path in images:\n",
    "        image_name = os.path.basename(image_path).split('.')[0]\n",
    "        image = cv2.imread(image_path, cv2.IMREAD_GRAYSCALE)\n",
    "\n",
    "        # Dark pixel density\n",
    "        dark_pixel_density = calculate_dark_pixel_density(image, treshold)\n",
    "        dark_pixel_densities[cls].append(dark_pixel_density)\n",
    "    print(\"first class generated\")\n",
    "print(\"second class generated\")\n",
    "\n",
    "# Save all dark pixel densities to a CSV file for each class\n",
    "for cls in classes:\n",
    "    combined_pixel_density_output_path = os.path.join(output_dir, cls, \"pixelDensity\", \"combined_pixelDensity.csv\")\n",
    "    save_pixel_density_to_csv(dark_pixel_densities[cls], combined_pixel_density_output_path)\n",
    "print(\"pixel densities saved\")"
   ]
  },
  {
   "cell_type": "markdown",
   "id": "37c924bd-5f83-47d7-951f-fd3fe8875104",
   "metadata": {},
   "source": [
    "## Calculate birghtness"
   ]
  },
  {
   "cell_type": "code",
   "execution_count": 19,
   "id": "463932bd-248d-4a34-839a-4d14c6aba8c4",
   "metadata": {},
   "outputs": [],
   "source": [
    "def calculate_brightness(image):\n",
    "    \"\"\"Calculate the brightness of an image.\"\"\"\n",
    "    return np.mean(image)"
   ]
  },
  {
   "cell_type": "code",
   "execution_count": 20,
   "id": "60bf330c-a415-4634-9f5c-cd33aab208cf",
   "metadata": {},
   "outputs": [
    {
     "name": "stdout",
     "output_type": "stream",
     "text": [
      "first class generated\n",
      "first class generated\n",
      "second class generated\n",
      "brightness saved\n"
     ]
    }
   ],
   "source": [
    "for cls in classes:\n",
    "    for image_path in images:\n",
    "        image_name = os.path.basename(image_path).split('.')[0]\n",
    "        image = cv2.imread(image_path, cv2.IMREAD_GRAYSCALE)\n",
    "\n",
    "        # Brightness\n",
    "        brightness = calculate_brightness(image)\n",
    "        brightness_values[cls].append(brightness)\n",
    "    print(\"first class generated\")\n",
    "print(\"second class generated\")\n",
    "\n",
    "# Save all brightness values to a CSV file for each class\n",
    "for cls in classes:\n",
    "    combined_brightness_output_path = os.path.join(output_dir, cls, \"brightness\", \"combined_brightness.csv\")\n",
    "    save_to_csv(brightness_values[cls], combined_brightness_output_path, \"brightness\")\n",
    "print(\"brightness saved\")"
   ]
  },
  {
   "cell_type": "markdown",
   "id": "55dd7aab-7098-46ff-9492-35dfe4b8127f",
   "metadata": {},
   "source": [
    "## Calculate deviation"
   ]
  },
  {
   "cell_type": "code",
   "execution_count": 21,
   "id": "5ea9de73-56d3-40c9-b21d-254b05e55d57",
   "metadata": {},
   "outputs": [],
   "source": [
    "def calculate_std_deviation(image):\n",
    "    \"\"\"Calculate the standard deviation of an image.\"\"\"\n",
    "    return np.std(image)"
   ]
  },
  {
   "cell_type": "code",
   "execution_count": 22,
   "id": "7051c410-23ac-4c96-9716-1f4644d10059",
   "metadata": {},
   "outputs": [
    {
     "name": "stdout",
     "output_type": "stream",
     "text": [
      "first class generated\n",
      "first class generated\n",
      "second class generated\n",
      "std deviation saved\n"
     ]
    }
   ],
   "source": [
    "for cls in classes:\n",
    "    for image_path in images:\n",
    "        image_name = os.path.basename(image_path).split('.')[0]\n",
    "        image = cv2.imread(image_path, cv2.IMREAD_GRAYSCALE)\n",
    "\n",
    "        # Standard deviation\n",
    "        std_deviation = calculate_std_deviation(image)\n",
    "        std_deviation_values[cls].append(std_deviation)\n",
    "    print(\"first class generated\")\n",
    "print(\"second class generated\")\n",
    "                                         \n",
    "# Save all standard deviation values to a CSV file for each class\n",
    "for cls in classes:\n",
    "    combined_std_deviation_output_path = os.path.join(output_dir, cls, \"stdDeviation\", \"combined_stdDeviation.csv\")\n",
    "    save_to_csv(std_deviation_values[cls], combined_std_deviation_output_path, \"std_deviation\")\n",
    "print(\"std deviation saved\")"
   ]
  },
  {
   "cell_type": "markdown",
   "id": "6ec3bf48-ced6-474e-b1ae-8066c7ce4a46",
   "metadata": {},
   "source": [
    "## Calculate skewness (Very slow)"
   ]
  },
  {
   "cell_type": "code",
   "execution_count": 23,
   "id": "23a6cdcb-4a11-4410-a919-527beeb76f05",
   "metadata": {},
   "outputs": [],
   "source": [
    "def calculate_skewness(image):\n",
    "    \"\"\"Calculate the skewness of an image.\"\"\"\n",
    "    return skew(image.flatten())"
   ]
  },
  {
   "cell_type": "code",
   "execution_count": null,
   "id": "1da72a4d-f2df-4bf3-9e71-2ee8a54cec76",
   "metadata": {},
   "outputs": [],
   "source": [
    "for cls in classes:\n",
    "    for image_path in images:\n",
    "        image_name = os.path.basename(image_path).split('.')[0]\n",
    "        image = cv2.imread(image_path, cv2.IMREAD_GRAYSCALE)\n",
    "\n",
    "        # Skewness\n",
    "        skewness = calculate_skewness(image)\n",
    "        skewness_values[cls].append(skewness)\n",
    "    print(\"first class generated\")\n",
    "print(\"second class generated\")\n",
    "\n",
    "# Save all skewness values to a CSV file for each class\n",
    "for cls in classes:\n",
    "    combined_skewness_output_path = os.path.join(output_dir, cls, \"skewness\", \"combined_skewness.csv\")\n",
    "    save_to_csv(skewness_values[cls], combined_skewness_output_path, \"skewness\")\n",
    "print(\"skewness saved\")"
   ]
  }
 ],
 "metadata": {
  "kernelspec": {
   "display_name": "Python 3 (ipykernel)",
   "language": "python",
   "name": "python3"
  },
  "language_info": {
   "codemirror_mode": {
    "name": "ipython",
    "version": 3
   },
   "file_extension": ".py",
   "mimetype": "text/x-python",
   "name": "python",
   "nbconvert_exporter": "python",
   "pygments_lexer": "ipython3",
   "version": "3.12.0"
  }
 },
 "nbformat": 4,
 "nbformat_minor": 5
}
